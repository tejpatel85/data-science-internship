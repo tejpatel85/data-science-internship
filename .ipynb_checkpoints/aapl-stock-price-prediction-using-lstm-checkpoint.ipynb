{
 "cells": [
  {
   "cell_type": "markdown",
   "metadata": {
    "id": "mLb1y-atDqei"
   },
   "source": [
    "# Apple Stock Price Prediction using LSTM"
   ]
  },
  {
   "cell_type": "markdown",
   "metadata": {
    "id": "9zkg0jmsD0uI"
   },
   "source": [
    "We are creating an LSTM model to forecast Apple stock prices for next 6 months (Dec 2021 - May 2022)"
   ]
  },
  {
   "cell_type": "markdown",
   "metadata": {
    "id": "r1nAJ5gPD6I7"
   },
   "source": [
    "## Data"
   ]
  },
  {
   "cell_type": "code",
   "execution_count": 59,
   "metadata": {
    "execution": {
     "iopub.execute_input": "2021-12-15T05:48:05.619464Z",
     "iopub.status.busy": "2021-12-15T05:48:05.619203Z",
     "iopub.status.idle": "2021-12-15T05:48:05.626111Z",
     "shell.execute_reply": "2021-12-15T05:48:05.625229Z",
     "shell.execute_reply.started": "2021-12-15T05:48:05.619435Z"
    },
    "executionInfo": {
     "elapsed": 1892,
     "status": "ok",
     "timestamp": 1639538390373,
     "user": {
      "displayName": "Himanshu Agrawal",
      "photoUrl": "https://lh3.googleusercontent.com/a-/AOh14GjP7W2fN8WTbaE8Cz4sW8MWqtRRM6M-4AsS00It=s64",
      "userId": "05949857934793656557"
     },
     "user_tz": -330
    },
    "id": "EZ0Bf1K9EGtB"
   },
   "outputs": [],
   "source": [
    "#Importing Libraries\n",
    "import numpy as np\n",
    "import pandas as pd\n",
    "from tensorflow.keras.models import Sequential\n",
    "from tensorflow.keras.layers import LSTM,Dense\n",
    "from sklearn.preprocessing import MinMaxScaler\n",
    "import matplotlib.pyplot as plt"
   ]
  },
  {
   "cell_type": "code",
   "execution_count": 2,
   "metadata": {
    "execution": {
     "iopub.execute_input": "2021-12-15T05:48:05.628477Z",
     "iopub.status.busy": "2021-12-15T05:48:05.628151Z",
     "iopub.status.idle": "2021-12-15T05:48:05.638564Z",
     "shell.execute_reply": "2021-12-15T05:48:05.637885Z",
     "shell.execute_reply.started": "2021-12-15T05:48:05.628433Z"
    }
   },
   "outputs": [],
   "source": [
    "# import os\n",
    "# os.listdir(\"../input\")"
   ]
  },
  {
   "cell_type": "code",
   "execution_count": 3,
   "metadata": {
    "execution": {
     "iopub.execute_input": "2021-12-15T05:48:05.640637Z",
     "iopub.status.busy": "2021-12-15T05:48:05.640080Z",
     "iopub.status.idle": "2021-12-15T05:48:05.672479Z",
     "shell.execute_reply": "2021-12-15T05:48:05.671783Z",
     "shell.execute_reply.started": "2021-12-15T05:48:05.640568Z"
    }
   },
   "outputs": [],
   "source": [
    "data = pd.read_csv('AAPL.csv')"
   ]
  },
  {
   "cell_type": "code",
   "execution_count": 4,
   "metadata": {
    "execution": {
     "iopub.execute_input": "2021-12-15T05:48:05.675433Z",
     "iopub.status.busy": "2021-12-15T05:48:05.674855Z",
     "iopub.status.idle": "2021-12-15T05:48:05.693235Z",
     "shell.execute_reply": "2021-12-15T05:48:05.692644Z",
     "shell.execute_reply.started": "2021-12-15T05:48:05.675388Z"
    },
    "executionInfo": {
     "elapsed": 39,
     "status": "ok",
     "timestamp": 1639538416917,
     "user": {
      "displayName": "Himanshu Agrawal",
      "photoUrl": "https://lh3.googleusercontent.com/a-/AOh14GjP7W2fN8WTbaE8Cz4sW8MWqtRRM6M-4AsS00It=s64",
      "userId": "05949857934793656557"
     },
     "user_tz": -330
    },
    "id": "iBaH-dXHEVmK",
    "outputId": "0e691c63-045d-41d3-8c33-adee9e1a4265"
   },
   "outputs": [
    {
     "data": {
      "text/html": [
       "<div>\n",
       "<style scoped>\n",
       "    .dataframe tbody tr th:only-of-type {\n",
       "        vertical-align: middle;\n",
       "    }\n",
       "\n",
       "    .dataframe tbody tr th {\n",
       "        vertical-align: top;\n",
       "    }\n",
       "\n",
       "    .dataframe thead th {\n",
       "        text-align: right;\n",
       "    }\n",
       "</style>\n",
       "<table border=\"1\" class=\"dataframe\">\n",
       "  <thead>\n",
       "    <tr style=\"text-align: right;\">\n",
       "      <th></th>\n",
       "      <th>Date</th>\n",
       "      <th>Open</th>\n",
       "      <th>High</th>\n",
       "      <th>Low</th>\n",
       "      <th>Close</th>\n",
       "      <th>Adj Close</th>\n",
       "      <th>Volume</th>\n",
       "    </tr>\n",
       "  </thead>\n",
       "  <tbody>\n",
       "    <tr>\n",
       "      <th>0</th>\n",
       "      <td>02-01-1990</td>\n",
       "      <td>0.314732</td>\n",
       "      <td>0.334821</td>\n",
       "      <td>0.312500</td>\n",
       "      <td>0.332589</td>\n",
       "      <td>0.266423</td>\n",
       "      <td>183198400</td>\n",
       "    </tr>\n",
       "    <tr>\n",
       "      <th>1</th>\n",
       "      <td>03-01-1990</td>\n",
       "      <td>0.339286</td>\n",
       "      <td>0.339286</td>\n",
       "      <td>0.334821</td>\n",
       "      <td>0.334821</td>\n",
       "      <td>0.268211</td>\n",
       "      <td>207995200</td>\n",
       "    </tr>\n",
       "    <tr>\n",
       "      <th>2</th>\n",
       "      <td>04-01-1990</td>\n",
       "      <td>0.341518</td>\n",
       "      <td>0.345982</td>\n",
       "      <td>0.332589</td>\n",
       "      <td>0.335938</td>\n",
       "      <td>0.269106</td>\n",
       "      <td>221513600</td>\n",
       "    </tr>\n",
       "    <tr>\n",
       "      <th>3</th>\n",
       "      <td>05-01-1990</td>\n",
       "      <td>0.337054</td>\n",
       "      <td>0.341518</td>\n",
       "      <td>0.330357</td>\n",
       "      <td>0.337054</td>\n",
       "      <td>0.270000</td>\n",
       "      <td>123312000</td>\n",
       "    </tr>\n",
       "    <tr>\n",
       "      <th>4</th>\n",
       "      <td>08-01-1990</td>\n",
       "      <td>0.334821</td>\n",
       "      <td>0.339286</td>\n",
       "      <td>0.330357</td>\n",
       "      <td>0.339286</td>\n",
       "      <td>0.271788</td>\n",
       "      <td>101572800</td>\n",
       "    </tr>\n",
       "    <tr>\n",
       "      <th>...</th>\n",
       "      <td>...</td>\n",
       "      <td>...</td>\n",
       "      <td>...</td>\n",
       "      <td>...</td>\n",
       "      <td>...</td>\n",
       "      <td>...</td>\n",
       "      <td>...</td>\n",
       "    </tr>\n",
       "    <tr>\n",
       "      <th>8037</th>\n",
       "      <td>23-11-2021</td>\n",
       "      <td>161.119995</td>\n",
       "      <td>161.800003</td>\n",
       "      <td>159.059998</td>\n",
       "      <td>161.410004</td>\n",
       "      <td>161.410004</td>\n",
       "      <td>96041900</td>\n",
       "    </tr>\n",
       "    <tr>\n",
       "      <th>8038</th>\n",
       "      <td>24-11-2021</td>\n",
       "      <td>160.750000</td>\n",
       "      <td>162.139999</td>\n",
       "      <td>159.639999</td>\n",
       "      <td>161.940002</td>\n",
       "      <td>161.940002</td>\n",
       "      <td>69463600</td>\n",
       "    </tr>\n",
       "    <tr>\n",
       "      <th>8039</th>\n",
       "      <td>26-11-2021</td>\n",
       "      <td>159.570007</td>\n",
       "      <td>160.449997</td>\n",
       "      <td>156.360001</td>\n",
       "      <td>156.809998</td>\n",
       "      <td>156.809998</td>\n",
       "      <td>76959800</td>\n",
       "    </tr>\n",
       "    <tr>\n",
       "      <th>8040</th>\n",
       "      <td>29-11-2021</td>\n",
       "      <td>159.369995</td>\n",
       "      <td>161.190002</td>\n",
       "      <td>158.789993</td>\n",
       "      <td>160.240005</td>\n",
       "      <td>160.240005</td>\n",
       "      <td>88748200</td>\n",
       "    </tr>\n",
       "    <tr>\n",
       "      <th>8041</th>\n",
       "      <td>30-11-2021</td>\n",
       "      <td>159.990005</td>\n",
       "      <td>165.520004</td>\n",
       "      <td>159.919998</td>\n",
       "      <td>165.300003</td>\n",
       "      <td>165.300003</td>\n",
       "      <td>174048100</td>\n",
       "    </tr>\n",
       "  </tbody>\n",
       "</table>\n",
       "<p>8042 rows × 7 columns</p>\n",
       "</div>"
      ],
      "text/plain": [
       "            Date        Open        High         Low       Close   Adj Close  \\\n",
       "0     02-01-1990    0.314732    0.334821    0.312500    0.332589    0.266423   \n",
       "1     03-01-1990    0.339286    0.339286    0.334821    0.334821    0.268211   \n",
       "2     04-01-1990    0.341518    0.345982    0.332589    0.335938    0.269106   \n",
       "3     05-01-1990    0.337054    0.341518    0.330357    0.337054    0.270000   \n",
       "4     08-01-1990    0.334821    0.339286    0.330357    0.339286    0.271788   \n",
       "...          ...         ...         ...         ...         ...         ...   \n",
       "8037  23-11-2021  161.119995  161.800003  159.059998  161.410004  161.410004   \n",
       "8038  24-11-2021  160.750000  162.139999  159.639999  161.940002  161.940002   \n",
       "8039  26-11-2021  159.570007  160.449997  156.360001  156.809998  156.809998   \n",
       "8040  29-11-2021  159.369995  161.190002  158.789993  160.240005  160.240005   \n",
       "8041  30-11-2021  159.990005  165.520004  159.919998  165.300003  165.300003   \n",
       "\n",
       "         Volume  \n",
       "0     183198400  \n",
       "1     207995200  \n",
       "2     221513600  \n",
       "3     123312000  \n",
       "4     101572800  \n",
       "...         ...  \n",
       "8037   96041900  \n",
       "8038   69463600  \n",
       "8039   76959800  \n",
       "8040   88748200  \n",
       "8041  174048100  \n",
       "\n",
       "[8042 rows x 7 columns]"
      ]
     },
     "execution_count": 4,
     "metadata": {},
     "output_type": "execute_result"
    }
   ],
   "source": [
    "data"
   ]
  },
  {
   "cell_type": "code",
   "execution_count": 5,
   "metadata": {
    "execution": {
     "iopub.execute_input": "2021-12-15T05:48:05.694858Z",
     "iopub.status.busy": "2021-12-15T05:48:05.694461Z",
     "iopub.status.idle": "2021-12-15T05:48:05.721524Z",
     "shell.execute_reply": "2021-12-15T05:48:05.720959Z",
     "shell.execute_reply.started": "2021-12-15T05:48:05.694826Z"
    },
    "executionInfo": {
     "elapsed": 38,
     "status": "ok",
     "timestamp": 1639538416919,
     "user": {
      "displayName": "Himanshu Agrawal",
      "photoUrl": "https://lh3.googleusercontent.com/a-/AOh14GjP7W2fN8WTbaE8Cz4sW8MWqtRRM6M-4AsS00It=s64",
      "userId": "05949857934793656557"
     },
     "user_tz": -330
    },
    "id": "-Pyl01Z3EXWh",
    "outputId": "0e21bef8-b0fb-44b9-c19f-183f595677a8"
   },
   "outputs": [
    {
     "name": "stdout",
     "output_type": "stream",
     "text": [
      "<class 'pandas.core.frame.DataFrame'>\n",
      "RangeIndex: 8042 entries, 0 to 8041\n",
      "Data columns (total 7 columns):\n",
      " #   Column     Non-Null Count  Dtype  \n",
      "---  ------     --------------  -----  \n",
      " 0   Date       8042 non-null   object \n",
      " 1   Open       8042 non-null   float64\n",
      " 2   High       8042 non-null   float64\n",
      " 3   Low        8042 non-null   float64\n",
      " 4   Close      8042 non-null   float64\n",
      " 5   Adj Close  8042 non-null   float64\n",
      " 6   Volume     8042 non-null   int64  \n",
      "dtypes: float64(5), int64(1), object(1)\n",
      "memory usage: 439.9+ KB\n"
     ]
    }
   ],
   "source": [
    "data.info()"
   ]
  },
  {
   "cell_type": "code",
   "execution_count": 6,
   "metadata": {
    "execution": {
     "iopub.execute_input": "2021-12-15T05:48:05.723142Z",
     "iopub.status.busy": "2021-12-15T05:48:05.722491Z",
     "iopub.status.idle": "2021-12-15T05:48:05.756213Z",
     "shell.execute_reply": "2021-12-15T05:48:05.755321Z",
     "shell.execute_reply.started": "2021-12-15T05:48:05.723110Z"
    },
    "executionInfo": {
     "elapsed": 33,
     "status": "ok",
     "timestamp": 1639538416919,
     "user": {
      "displayName": "Himanshu Agrawal",
      "photoUrl": "https://lh3.googleusercontent.com/a-/AOh14GjP7W2fN8WTbaE8Cz4sW8MWqtRRM6M-4AsS00It=s64",
      "userId": "05949857934793656557"
     },
     "user_tz": -330
    },
    "id": "78qAYAyFEZVP",
    "outputId": "18e1e5b5-cd24-4a1a-80c4-fc84ba8f6b06"
   },
   "outputs": [
    {
     "data": {
      "text/html": [
       "<div>\n",
       "<style scoped>\n",
       "    .dataframe tbody tr th:only-of-type {\n",
       "        vertical-align: middle;\n",
       "    }\n",
       "\n",
       "    .dataframe tbody tr th {\n",
       "        vertical-align: top;\n",
       "    }\n",
       "\n",
       "    .dataframe thead th {\n",
       "        text-align: right;\n",
       "    }\n",
       "</style>\n",
       "<table border=\"1\" class=\"dataframe\">\n",
       "  <thead>\n",
       "    <tr style=\"text-align: right;\">\n",
       "      <th></th>\n",
       "      <th>Open</th>\n",
       "      <th>High</th>\n",
       "      <th>Low</th>\n",
       "      <th>Close</th>\n",
       "      <th>Adj Close</th>\n",
       "      <th>Volume</th>\n",
       "    </tr>\n",
       "  </thead>\n",
       "  <tbody>\n",
       "    <tr>\n",
       "      <th>count</th>\n",
       "      <td>8042.000000</td>\n",
       "      <td>8042.000000</td>\n",
       "      <td>8042.000000</td>\n",
       "      <td>8042.000000</td>\n",
       "      <td>8042.000000</td>\n",
       "      <td>8.042000e+03</td>\n",
       "    </tr>\n",
       "    <tr>\n",
       "      <th>mean</th>\n",
       "      <td>16.351917</td>\n",
       "      <td>16.525066</td>\n",
       "      <td>16.178668</td>\n",
       "      <td>16.358983</td>\n",
       "      <td>15.594377</td>\n",
       "      <td>3.831832e+08</td>\n",
       "    </tr>\n",
       "    <tr>\n",
       "      <th>std</th>\n",
       "      <td>29.698129</td>\n",
       "      <td>30.021799</td>\n",
       "      <td>29.380971</td>\n",
       "      <td>29.717860</td>\n",
       "      <td>29.448485</td>\n",
       "      <td>3.633095e+08</td>\n",
       "    </tr>\n",
       "    <tr>\n",
       "      <th>min</th>\n",
       "      <td>0.114955</td>\n",
       "      <td>0.118304</td>\n",
       "      <td>0.113839</td>\n",
       "      <td>0.115513</td>\n",
       "      <td>0.099037</td>\n",
       "      <td>2.396800e+06</td>\n",
       "    </tr>\n",
       "    <tr>\n",
       "      <th>25%</th>\n",
       "      <td>0.367266</td>\n",
       "      <td>0.375000</td>\n",
       "      <td>0.358929</td>\n",
       "      <td>0.367188</td>\n",
       "      <td>0.308924</td>\n",
       "      <td>1.478439e+08</td>\n",
       "    </tr>\n",
       "    <tr>\n",
       "      <th>50%</th>\n",
       "      <td>2.111071</td>\n",
       "      <td>2.138393</td>\n",
       "      <td>2.058393</td>\n",
       "      <td>2.106428</td>\n",
       "      <td>1.805978</td>\n",
       "      <td>2.664242e+08</td>\n",
       "    </tr>\n",
       "    <tr>\n",
       "      <th>75%</th>\n",
       "      <td>21.204196</td>\n",
       "      <td>21.363661</td>\n",
       "      <td>20.989554</td>\n",
       "      <td>21.170268</td>\n",
       "      <td>18.389792</td>\n",
       "      <td>4.808804e+08</td>\n",
       "    </tr>\n",
       "    <tr>\n",
       "      <th>max</th>\n",
       "      <td>161.679993</td>\n",
       "      <td>165.699997</td>\n",
       "      <td>161.000000</td>\n",
       "      <td>165.300003</td>\n",
       "      <td>165.300003</td>\n",
       "      <td>7.421641e+09</td>\n",
       "    </tr>\n",
       "  </tbody>\n",
       "</table>\n",
       "</div>"
      ],
      "text/plain": [
       "              Open         High          Low        Close    Adj Close  \\\n",
       "count  8042.000000  8042.000000  8042.000000  8042.000000  8042.000000   \n",
       "mean     16.351917    16.525066    16.178668    16.358983    15.594377   \n",
       "std      29.698129    30.021799    29.380971    29.717860    29.448485   \n",
       "min       0.114955     0.118304     0.113839     0.115513     0.099037   \n",
       "25%       0.367266     0.375000     0.358929     0.367188     0.308924   \n",
       "50%       2.111071     2.138393     2.058393     2.106428     1.805978   \n",
       "75%      21.204196    21.363661    20.989554    21.170268    18.389792   \n",
       "max     161.679993   165.699997   161.000000   165.300003   165.300003   \n",
       "\n",
       "             Volume  \n",
       "count  8.042000e+03  \n",
       "mean   3.831832e+08  \n",
       "std    3.633095e+08  \n",
       "min    2.396800e+06  \n",
       "25%    1.478439e+08  \n",
       "50%    2.664242e+08  \n",
       "75%    4.808804e+08  \n",
       "max    7.421641e+09  "
      ]
     },
     "execution_count": 6,
     "metadata": {},
     "output_type": "execute_result"
    }
   ],
   "source": [
    "data.describe()"
   ]
  },
  {
   "cell_type": "code",
   "execution_count": 7,
   "metadata": {
    "execution": {
     "iopub.execute_input": "2021-12-15T05:48:05.758415Z",
     "iopub.status.busy": "2021-12-15T05:48:05.757557Z",
     "iopub.status.idle": "2021-12-15T05:48:05.781426Z",
     "shell.execute_reply": "2021-12-15T05:48:05.780155Z",
     "shell.execute_reply.started": "2021-12-15T05:48:05.758369Z"
    },
    "executionInfo": {
     "elapsed": 33,
     "status": "ok",
     "timestamp": 1639538416920,
     "user": {
      "displayName": "Himanshu Agrawal",
      "photoUrl": "https://lh3.googleusercontent.com/a-/AOh14GjP7W2fN8WTbaE8Cz4sW8MWqtRRM6M-4AsS00It=s64",
      "userId": "05949857934793656557"
     },
     "user_tz": -330
    },
    "id": "8HWtsfN5EcOd"
   },
   "outputs": [],
   "source": [
    "data['Date'] = pd.to_datetime(data['Date'], dayfirst=True)"
   ]
  },
  {
   "cell_type": "code",
   "execution_count": 8,
   "metadata": {
    "execution": {
     "iopub.execute_input": "2021-12-15T05:48:05.783212Z",
     "iopub.status.busy": "2021-12-15T05:48:05.782814Z",
     "iopub.status.idle": "2021-12-15T05:48:05.806280Z",
     "shell.execute_reply": "2021-12-15T05:48:05.805639Z",
     "shell.execute_reply.started": "2021-12-15T05:48:05.783180Z"
    },
    "executionInfo": {
     "elapsed": 32,
     "status": "ok",
     "timestamp": 1639538416920,
     "user": {
      "displayName": "Himanshu Agrawal",
      "photoUrl": "https://lh3.googleusercontent.com/a-/AOh14GjP7W2fN8WTbaE8Cz4sW8MWqtRRM6M-4AsS00It=s64",
      "userId": "05949857934793656557"
     },
     "user_tz": -330
    },
    "id": "4ajSvvnEEeCi",
    "outputId": "2aedaae8-dec6-482a-9b4c-30c2e195ee58"
   },
   "outputs": [
    {
     "data": {
      "text/html": [
       "<div>\n",
       "<style scoped>\n",
       "    .dataframe tbody tr th:only-of-type {\n",
       "        vertical-align: middle;\n",
       "    }\n",
       "\n",
       "    .dataframe tbody tr th {\n",
       "        vertical-align: top;\n",
       "    }\n",
       "\n",
       "    .dataframe thead th {\n",
       "        text-align: right;\n",
       "    }\n",
       "</style>\n",
       "<table border=\"1\" class=\"dataframe\">\n",
       "  <thead>\n",
       "    <tr style=\"text-align: right;\">\n",
       "      <th></th>\n",
       "      <th>Date</th>\n",
       "      <th>Open</th>\n",
       "      <th>High</th>\n",
       "      <th>Low</th>\n",
       "      <th>Close</th>\n",
       "      <th>Adj Close</th>\n",
       "      <th>Volume</th>\n",
       "      <th>Avg_price</th>\n",
       "    </tr>\n",
       "  </thead>\n",
       "  <tbody>\n",
       "    <tr>\n",
       "      <th>0</th>\n",
       "      <td>1990-01-02</td>\n",
       "      <td>0.314732</td>\n",
       "      <td>0.334821</td>\n",
       "      <td>0.312500</td>\n",
       "      <td>0.332589</td>\n",
       "      <td>0.266423</td>\n",
       "      <td>183198400</td>\n",
       "      <td>0.323661</td>\n",
       "    </tr>\n",
       "    <tr>\n",
       "      <th>1</th>\n",
       "      <td>1990-01-03</td>\n",
       "      <td>0.339286</td>\n",
       "      <td>0.339286</td>\n",
       "      <td>0.334821</td>\n",
       "      <td>0.334821</td>\n",
       "      <td>0.268211</td>\n",
       "      <td>207995200</td>\n",
       "      <td>0.337054</td>\n",
       "    </tr>\n",
       "    <tr>\n",
       "      <th>2</th>\n",
       "      <td>1990-01-04</td>\n",
       "      <td>0.341518</td>\n",
       "      <td>0.345982</td>\n",
       "      <td>0.332589</td>\n",
       "      <td>0.335938</td>\n",
       "      <td>0.269106</td>\n",
       "      <td>221513600</td>\n",
       "      <td>0.339286</td>\n",
       "    </tr>\n",
       "    <tr>\n",
       "      <th>3</th>\n",
       "      <td>1990-01-05</td>\n",
       "      <td>0.337054</td>\n",
       "      <td>0.341518</td>\n",
       "      <td>0.330357</td>\n",
       "      <td>0.337054</td>\n",
       "      <td>0.270000</td>\n",
       "      <td>123312000</td>\n",
       "      <td>0.335938</td>\n",
       "    </tr>\n",
       "    <tr>\n",
       "      <th>4</th>\n",
       "      <td>1990-01-08</td>\n",
       "      <td>0.334821</td>\n",
       "      <td>0.339286</td>\n",
       "      <td>0.330357</td>\n",
       "      <td>0.339286</td>\n",
       "      <td>0.271788</td>\n",
       "      <td>101572800</td>\n",
       "      <td>0.334821</td>\n",
       "    </tr>\n",
       "  </tbody>\n",
       "</table>\n",
       "</div>"
      ],
      "text/plain": [
       "        Date      Open      High       Low     Close  Adj Close     Volume  \\\n",
       "0 1990-01-02  0.314732  0.334821  0.312500  0.332589   0.266423  183198400   \n",
       "1 1990-01-03  0.339286  0.339286  0.334821  0.334821   0.268211  207995200   \n",
       "2 1990-01-04  0.341518  0.345982  0.332589  0.335938   0.269106  221513600   \n",
       "3 1990-01-05  0.337054  0.341518  0.330357  0.337054   0.270000  123312000   \n",
       "4 1990-01-08  0.334821  0.339286  0.330357  0.339286   0.271788  101572800   \n",
       "\n",
       "   Avg_price  \n",
       "0   0.323661  \n",
       "1   0.337054  \n",
       "2   0.339286  \n",
       "3   0.335938  \n",
       "4   0.334821  "
      ]
     },
     "execution_count": 8,
     "metadata": {},
     "output_type": "execute_result"
    }
   ],
   "source": [
    "data['Avg_price'] = data[['High','Low']].mean(axis=1)\n",
    "data.head()"
   ]
  },
  {
   "cell_type": "code",
   "execution_count": 9,
   "metadata": {
    "execution": {
     "iopub.execute_input": "2021-12-15T05:48:05.807771Z",
     "iopub.status.busy": "2021-12-15T05:48:05.807418Z",
     "iopub.status.idle": "2021-12-15T05:48:05.819876Z",
     "shell.execute_reply": "2021-12-15T05:48:05.819019Z",
     "shell.execute_reply.started": "2021-12-15T05:48:05.807742Z"
    },
    "executionInfo": {
     "elapsed": 31,
     "status": "ok",
     "timestamp": 1639538416921,
     "user": {
      "displayName": "Himanshu Agrawal",
      "photoUrl": "https://lh3.googleusercontent.com/a-/AOh14GjP7W2fN8WTbaE8Cz4sW8MWqtRRM6M-4AsS00It=s64",
      "userId": "05949857934793656557"
     },
     "user_tz": -330
    },
    "id": "pSp9f0PPEgs4",
    "outputId": "9dfd70ba-9e84-429f-969a-f048385c16f1"
   },
   "outputs": [
    {
     "data": {
      "text/html": [
       "<div>\n",
       "<style scoped>\n",
       "    .dataframe tbody tr th:only-of-type {\n",
       "        vertical-align: middle;\n",
       "    }\n",
       "\n",
       "    .dataframe tbody tr th {\n",
       "        vertical-align: top;\n",
       "    }\n",
       "\n",
       "    .dataframe thead th {\n",
       "        text-align: right;\n",
       "    }\n",
       "</style>\n",
       "<table border=\"1\" class=\"dataframe\">\n",
       "  <thead>\n",
       "    <tr style=\"text-align: right;\">\n",
       "      <th></th>\n",
       "      <th>Date</th>\n",
       "      <th>Avg_price</th>\n",
       "    </tr>\n",
       "  </thead>\n",
       "  <tbody>\n",
       "    <tr>\n",
       "      <th>0</th>\n",
       "      <td>1990-01-02</td>\n",
       "      <td>0.323661</td>\n",
       "    </tr>\n",
       "    <tr>\n",
       "      <th>1</th>\n",
       "      <td>1990-01-03</td>\n",
       "      <td>0.337054</td>\n",
       "    </tr>\n",
       "    <tr>\n",
       "      <th>2</th>\n",
       "      <td>1990-01-04</td>\n",
       "      <td>0.339286</td>\n",
       "    </tr>\n",
       "    <tr>\n",
       "      <th>3</th>\n",
       "      <td>1990-01-05</td>\n",
       "      <td>0.335938</td>\n",
       "    </tr>\n",
       "    <tr>\n",
       "      <th>4</th>\n",
       "      <td>1990-01-08</td>\n",
       "      <td>0.334821</td>\n",
       "    </tr>\n",
       "  </tbody>\n",
       "</table>\n",
       "</div>"
      ],
      "text/plain": [
       "        Date  Avg_price\n",
       "0 1990-01-02   0.323661\n",
       "1 1990-01-03   0.337054\n",
       "2 1990-01-04   0.339286\n",
       "3 1990-01-05   0.335938\n",
       "4 1990-01-08   0.334821"
      ]
     },
     "execution_count": 9,
     "metadata": {},
     "output_type": "execute_result"
    }
   ],
   "source": [
    "data.drop(['Open','Close','High','Low','Volume','Adj Close'], axis=1, inplace=True)\n",
    "data.head()"
   ]
  },
  {
   "cell_type": "code",
   "execution_count": 10,
   "metadata": {
    "execution": {
     "iopub.execute_input": "2021-12-15T05:48:05.823442Z",
     "iopub.status.busy": "2021-12-15T05:48:05.823213Z",
     "iopub.status.idle": "2021-12-15T05:48:05.835098Z",
     "shell.execute_reply": "2021-12-15T05:48:05.834185Z",
     "shell.execute_reply.started": "2021-12-15T05:48:05.823415Z"
    },
    "executionInfo": {
     "elapsed": 30,
     "status": "ok",
     "timestamp": 1639538416921,
     "user": {
      "displayName": "Himanshu Agrawal",
      "photoUrl": "https://lh3.googleusercontent.com/a-/AOh14GjP7W2fN8WTbaE8Cz4sW8MWqtRRM6M-4AsS00It=s64",
      "userId": "05949857934793656557"
     },
     "user_tz": -330
    },
    "id": "Ri8eLylnEm26",
    "outputId": "0bcab262-7d71-4533-87fc-75367b671098"
   },
   "outputs": [
    {
     "data": {
      "text/html": [
       "<div>\n",
       "<style scoped>\n",
       "    .dataframe tbody tr th:only-of-type {\n",
       "        vertical-align: middle;\n",
       "    }\n",
       "\n",
       "    .dataframe tbody tr th {\n",
       "        vertical-align: top;\n",
       "    }\n",
       "\n",
       "    .dataframe thead th {\n",
       "        text-align: right;\n",
       "    }\n",
       "</style>\n",
       "<table border=\"1\" class=\"dataframe\">\n",
       "  <thead>\n",
       "    <tr style=\"text-align: right;\">\n",
       "      <th></th>\n",
       "      <th>Avg_price</th>\n",
       "    </tr>\n",
       "    <tr>\n",
       "      <th>Date</th>\n",
       "      <th></th>\n",
       "    </tr>\n",
       "  </thead>\n",
       "  <tbody>\n",
       "    <tr>\n",
       "      <th>1990-01-02</th>\n",
       "      <td>0.323661</td>\n",
       "    </tr>\n",
       "    <tr>\n",
       "      <th>1990-01-03</th>\n",
       "      <td>0.337054</td>\n",
       "    </tr>\n",
       "    <tr>\n",
       "      <th>1990-01-04</th>\n",
       "      <td>0.339286</td>\n",
       "    </tr>\n",
       "    <tr>\n",
       "      <th>1990-01-05</th>\n",
       "      <td>0.335938</td>\n",
       "    </tr>\n",
       "    <tr>\n",
       "      <th>1990-01-08</th>\n",
       "      <td>0.334821</td>\n",
       "    </tr>\n",
       "  </tbody>\n",
       "</table>\n",
       "</div>"
      ],
      "text/plain": [
       "            Avg_price\n",
       "Date                 \n",
       "1990-01-02   0.323661\n",
       "1990-01-03   0.337054\n",
       "1990-01-04   0.339286\n",
       "1990-01-05   0.335938\n",
       "1990-01-08   0.334821"
      ]
     },
     "execution_count": 10,
     "metadata": {},
     "output_type": "execute_result"
    }
   ],
   "source": [
    "data.set_index('Date', inplace=True)\n",
    "data.head()"
   ]
  },
  {
   "cell_type": "code",
   "execution_count": 11,
   "metadata": {
    "execution": {
     "iopub.execute_input": "2021-12-15T05:48:05.837112Z",
     "iopub.status.busy": "2021-12-15T05:48:05.836406Z",
     "iopub.status.idle": "2021-12-15T05:48:06.229204Z",
     "shell.execute_reply": "2021-12-15T05:48:06.228385Z",
     "shell.execute_reply.started": "2021-12-15T05:48:05.837076Z"
    },
    "executionInfo": {
     "elapsed": 2672,
     "status": "ok",
     "timestamp": 1639538419565,
     "user": {
      "displayName": "Himanshu Agrawal",
      "photoUrl": "https://lh3.googleusercontent.com/a-/AOh14GjP7W2fN8WTbaE8Cz4sW8MWqtRRM6M-4AsS00It=s64",
      "userId": "05949857934793656557"
     },
     "user_tz": -330
    },
    "id": "YjCfgSjuErjz",
    "outputId": "51da83b1-1d32-4f97-a1cc-e49d991e4413"
   },
   "outputs": [
    {
     "data": {
      "text/plain": [
       "Text(0, 0.5, 'Price')"
      ]
     },
     "execution_count": 11,
     "metadata": {},
     "output_type": "execute_result"
    },
    {
     "data": {
      "image/png": "[encoded data removed]",
      "text/plain": [
       "<Figure size 2000x1200 with 1 Axes>"
      ]
     },
     "metadata": {},
     "output_type": "display_data"
    }
   ],
   "source": [
    "plt.figure(figsize=(20,12))\n",
    "plt.plot(data)\n",
    "plt.xlabel('Year', fontsize=15)\n",
    "plt.ylabel('Price', fontsize=15)"
   ]
  },
  {
   "cell_type": "markdown",
   "metadata": {
    "id": "IsJJgcGrExXM"
   },
   "source": [
    "It can be seen that from 1990 to 2009, the stock value seems almost constant, it is better to take the data 2009 onwards and make a model with that data"
   ]
  },
  {
   "cell_type": "code",
   "execution_count": 12,
   "metadata": {
    "execution": {
     "iopub.execute_input": "2021-12-15T05:48:06.231156Z",
     "iopub.status.busy": "2021-12-15T05:48:06.230448Z",
     "iopub.status.idle": "2021-12-15T05:48:06.256323Z",
     "shell.execute_reply": "2021-12-15T05:48:06.255462Z",
     "shell.execute_reply.started": "2021-12-15T05:48:06.231111Z"
    },
    "executionInfo": {
     "elapsed": 88,
     "status": "ok",
     "timestamp": 1639538419569,
     "user": {
      "displayName": "Himanshu Agrawal",
      "photoUrl": "https://lh3.googleusercontent.com/a-/AOh14GjP7W2fN8WTbaE8Cz4sW8MWqtRRM6M-4AsS00It=s64",
      "userId": "05949857934793656557"
     },
     "user_tz": -330
    },
    "id": "vm7evWpfFHJA",
    "outputId": "b90210a3-39fb-4d24-c537-6deff81f872b"
   },
   "outputs": [
    {
     "data": {
      "text/plain": [
       "Avg_price    0.323661\n",
       "Name: 1990-01-02 00:00:00, dtype: float64"
      ]
     },
     "execution_count": 12,
     "metadata": {},
     "output_type": "execute_result"
    }
   ],
   "source": [
    "data.loc['1990-01-02']"
   ]
  },
  {
   "cell_type": "code",
   "execution_count": 13,
   "metadata": {
    "execution": {
     "iopub.execute_input": "2021-12-15T05:48:06.258049Z",
     "iopub.status.busy": "2021-12-15T05:48:06.257755Z",
     "iopub.status.idle": "2021-12-15T05:48:06.265324Z",
     "shell.execute_reply": "2021-12-15T05:48:06.264625Z",
     "shell.execute_reply.started": "2021-12-15T05:48:06.258008Z"
    },
    "executionInfo": {
     "elapsed": 82,
     "status": "ok",
     "timestamp": 1639538419569,
     "user": {
      "displayName": "Himanshu Agrawal",
      "photoUrl": "https://lh3.googleusercontent.com/a-/AOh14GjP7W2fN8WTbaE8Cz4sW8MWqtRRM6M-4AsS00It=s64",
      "userId": "05949857934793656557"
     },
     "user_tz": -330
    },
    "id": "6FBCUf_wFVeR",
    "outputId": "8998c8a0-0f09-40d8-9e7f-4f12f3247aea"
   },
   "outputs": [
    {
     "data": {
      "text/plain": [
       "Avg_price    3.146429\n",
       "Name: 2009-01-02 00:00:00, dtype: float64"
      ]
     },
     "execution_count": 13,
     "metadata": {},
     "output_type": "execute_result"
    }
   ],
   "source": [
    "data.loc['2009-01-02']"
   ]
  },
  {
   "cell_type": "code",
   "execution_count": 14,
   "metadata": {
    "execution": {
     "iopub.execute_input": "2021-12-15T05:48:06.267062Z",
     "iopub.status.busy": "2021-12-15T05:48:06.266614Z",
     "iopub.status.idle": "2021-12-15T05:48:06.278052Z",
     "shell.execute_reply": "2021-12-15T05:48:06.277442Z",
     "shell.execute_reply.started": "2021-12-15T05:48:06.267031Z"
    },
    "executionInfo": {
     "elapsed": 80,
     "status": "ok",
     "timestamp": 1639538419570,
     "user": {
      "displayName": "Himanshu Agrawal",
      "photoUrl": "https://lh3.googleusercontent.com/a-/AOh14GjP7W2fN8WTbaE8Cz4sW8MWqtRRM6M-4AsS00It=s64",
      "userId": "05949857934793656557"
     },
     "user_tz": -330
    },
    "id": "MrXq7hN-FbI5",
    "outputId": "66a7ad1a-a0d6-49be-bc35-ec071a5eeece"
   },
   "outputs": [
    {
     "data": {
      "text/plain": [
       "Avg_price    7.622857\n",
       "Name: 2010-01-04 00:00:00, dtype: float64"
      ]
     },
     "execution_count": 14,
     "metadata": {},
     "output_type": "execute_result"
    }
   ],
   "source": [
    "data.loc['2010-01-04']"
   ]
  },
  {
   "cell_type": "code",
   "execution_count": 15,
   "metadata": {
    "execution": {
     "iopub.execute_input": "2021-12-15T05:48:06.279840Z",
     "iopub.status.busy": "2021-12-15T05:48:06.279382Z",
     "iopub.status.idle": "2021-12-15T05:48:06.292402Z",
     "shell.execute_reply": "2021-12-15T05:48:06.291555Z",
     "shell.execute_reply.started": "2021-12-15T05:48:06.279807Z"
    },
    "executionInfo": {
     "elapsed": 73,
     "status": "ok",
     "timestamp": 1639538419570,
     "user": {
      "displayName": "Himanshu Agrawal",
      "photoUrl": "https://lh3.googleusercontent.com/a-/AOh14GjP7W2fN8WTbaE8Cz4sW8MWqtRRM6M-4AsS00It=s64",
      "userId": "05949857934793656557"
     },
     "user_tz": -330
    },
    "id": "KfakKRgDFeDb",
    "outputId": "5fe3447b-abaf-4eec-9f8f-465653e2ba0b"
   },
   "outputs": [
    {
     "data": {
      "text/plain": [
       "Avg_price    11.698214\n",
       "Name: 2011-01-03 00:00:00, dtype: float64"
      ]
     },
     "execution_count": 15,
     "metadata": {},
     "output_type": "execute_result"
    }
   ],
   "source": [
    "data.loc['2011-01-03']"
   ]
  },
  {
   "cell_type": "code",
   "execution_count": 16,
   "metadata": {
    "execution": {
     "iopub.execute_input": "2021-12-15T05:48:06.294222Z",
     "iopub.status.busy": "2021-12-15T05:48:06.293671Z",
     "iopub.status.idle": "2021-12-15T05:48:06.314317Z",
     "shell.execute_reply": "2021-12-15T05:48:06.313535Z",
     "shell.execute_reply.started": "2021-12-15T05:48:06.294190Z"
    },
    "executionInfo": {
     "elapsed": 70,
     "status": "ok",
     "timestamp": 1639538419570,
     "user": {
      "displayName": "Himanshu Agrawal",
      "photoUrl": "https://lh3.googleusercontent.com/a-/AOh14GjP7W2fN8WTbaE8Cz4sW8MWqtRRM6M-4AsS00It=s64",
      "userId": "05949857934793656557"
     },
     "user_tz": -330
    },
    "id": "8ZbTO7nyFgM9",
    "outputId": "8deadbb4-5754-4db3-d4ee-66f273327562"
   },
   "outputs": [
    {
     "data": {
      "text/plain": [
       "4792"
      ]
     },
     "execution_count": 16,
     "metadata": {},
     "output_type": "execute_result"
    }
   ],
   "source": [
    "len(data.loc['1990-01-02':'2009-01-02'])"
   ]
  },
  {
   "cell_type": "code",
   "execution_count": 17,
   "metadata": {
    "execution": {
     "iopub.execute_input": "2021-12-15T05:48:06.316389Z",
     "iopub.status.busy": "2021-12-15T05:48:06.315913Z",
     "iopub.status.idle": "2021-12-15T05:48:06.335299Z",
     "shell.execute_reply": "2021-12-15T05:48:06.334338Z",
     "shell.execute_reply.started": "2021-12-15T05:48:06.316344Z"
    },
    "executionInfo": {
     "elapsed": 69,
     "status": "ok",
     "timestamp": 1639538419571,
     "user": {
      "displayName": "Himanshu Agrawal",
      "photoUrl": "https://lh3.googleusercontent.com/a-/AOh14GjP7W2fN8WTbaE8Cz4sW8MWqtRRM6M-4AsS00It=s64",
      "userId": "05949857934793656557"
     },
     "user_tz": -330
    },
    "id": "JsUrEcqfFj3L",
    "outputId": "63d85677-0880-4af6-f136-ecfbf1516cdf"
   },
   "outputs": [
    {
     "data": {
      "text/html": [
       "<div>\n",
       "<style scoped>\n",
       "    .dataframe tbody tr th:only-of-type {\n",
       "        vertical-align: middle;\n",
       "    }\n",
       "\n",
       "    .dataframe tbody tr th {\n",
       "        vertical-align: top;\n",
       "    }\n",
       "\n",
       "    .dataframe thead th {\n",
       "        text-align: right;\n",
       "    }\n",
       "</style>\n",
       "<table border=\"1\" class=\"dataframe\">\n",
       "  <thead>\n",
       "    <tr style=\"text-align: right;\">\n",
       "      <th></th>\n",
       "      <th>Avg_price</th>\n",
       "    </tr>\n",
       "    <tr>\n",
       "      <th>Date</th>\n",
       "      <th></th>\n",
       "    </tr>\n",
       "  </thead>\n",
       "  <tbody>\n",
       "    <tr>\n",
       "      <th>2009-01-05</th>\n",
       "      <td>3.373036</td>\n",
       "    </tr>\n",
       "    <tr>\n",
       "      <th>2009-01-06</th>\n",
       "      <td>3.385000</td>\n",
       "    </tr>\n",
       "    <tr>\n",
       "      <th>2009-01-07</th>\n",
       "      <td>3.263571</td>\n",
       "    </tr>\n",
       "    <tr>\n",
       "      <th>2009-01-08</th>\n",
       "      <td>3.271250</td>\n",
       "    </tr>\n",
       "    <tr>\n",
       "      <th>2009-01-09</th>\n",
       "      <td>3.277143</td>\n",
       "    </tr>\n",
       "    <tr>\n",
       "      <th>...</th>\n",
       "      <td>...</td>\n",
       "    </tr>\n",
       "    <tr>\n",
       "      <th>2021-11-23</th>\n",
       "      <td>160.430001</td>\n",
       "    </tr>\n",
       "    <tr>\n",
       "      <th>2021-11-24</th>\n",
       "      <td>160.889999</td>\n",
       "    </tr>\n",
       "    <tr>\n",
       "      <th>2021-11-26</th>\n",
       "      <td>158.404999</td>\n",
       "    </tr>\n",
       "    <tr>\n",
       "      <th>2021-11-29</th>\n",
       "      <td>159.989998</td>\n",
       "    </tr>\n",
       "    <tr>\n",
       "      <th>2021-11-30</th>\n",
       "      <td>162.720001</td>\n",
       "    </tr>\n",
       "  </tbody>\n",
       "</table>\n",
       "<p>3250 rows × 1 columns</p>\n",
       "</div>"
      ],
      "text/plain": [
       "             Avg_price\n",
       "Date                  \n",
       "2009-01-05    3.373036\n",
       "2009-01-06    3.385000\n",
       "2009-01-07    3.263571\n",
       "2009-01-08    3.271250\n",
       "2009-01-09    3.277143\n",
       "...                ...\n",
       "2021-11-23  160.430001\n",
       "2021-11-24  160.889999\n",
       "2021-11-26  158.404999\n",
       "2021-11-29  159.989998\n",
       "2021-11-30  162.720001\n",
       "\n",
       "[3250 rows x 1 columns]"
      ]
     },
     "execution_count": 17,
     "metadata": {},
     "output_type": "execute_result"
    }
   ],
   "source": [
    "data = data.iloc[4792:]\n",
    "data"
   ]
  },
  {
   "cell_type": "code",
   "execution_count": 18,
   "metadata": {
    "execution": {
     "iopub.execute_input": "2021-12-15T05:48:06.340749Z",
     "iopub.status.busy": "2021-12-15T05:48:06.339290Z",
     "iopub.status.idle": "2021-12-15T05:48:06.671636Z",
     "shell.execute_reply": "2021-12-15T05:48:06.670852Z",
     "shell.execute_reply.started": "2021-12-15T05:48:06.340710Z"
    },
    "executionInfo": {
     "elapsed": 68,
     "status": "ok",
     "timestamp": 1639538419571,
     "user": {
      "displayName": "Himanshu Agrawal",
      "photoUrl": "https://lh3.googleusercontent.com/a-/AOh14GjP7W2fN8WTbaE8Cz4sW8MWqtRRM6M-4AsS00It=s64",
      "userId": "05949857934793656557"
     },
     "user_tz": -330
    },
    "id": "xXiOOzNSFozK",
    "outputId": "8dcc1f31-1e8c-4139-ded6-06efd480b363"
   },
   "outputs": [
    {
     "data": {
      "text/plain": [
       "Text(0, 0.5, 'Price')"
      ]
     },
     "execution_count": 18,
     "metadata": {},
     "output_type": "execute_result"
    },
    {
     "data": {
      "image/png": "[encoded data removed]",
      "text/plain": [
       "<Figure size 2000x1000 with 1 Axes>"
      ]
     },
     "metadata": {},
     "output_type": "display_data"
    }
   ],
   "source": [
    "plt.figure(figsize=(20,10))\n",
    "plt.plot(data)\n",
    "plt.xlabel('Year', fontsize=15)\n",
    "plt.ylabel('Price', fontsize=15)"
   ]
  },
  {
   "cell_type": "code",
   "execution_count": 19,
   "metadata": {
    "execution": {
     "iopub.execute_input": "2021-12-15T05:48:06.673210Z",
     "iopub.status.busy": "2021-12-15T05:48:06.672834Z",
     "iopub.status.idle": "2021-12-15T05:48:06.678498Z",
     "shell.execute_reply": "2021-12-15T05:48:06.677676Z",
     "shell.execute_reply.started": "2021-12-15T05:48:06.673176Z"
    },
    "executionInfo": {
     "elapsed": 61,
     "status": "ok",
     "timestamp": 1639538419572,
     "user": {
      "displayName": "Himanshu Agrawal",
      "photoUrl": "https://lh3.googleusercontent.com/a-/AOh14GjP7W2fN8WTbaE8Cz4sW8MWqtRRM6M-4AsS00It=s64",
      "userId": "05949857934793656557"
     },
     "user_tz": -330
    },
    "id": "17T016GeF1Up",
    "outputId": "17d5e19a-3d1a-4fcd-d325-cb83a7bfe389"
   },
   "outputs": [
    {
     "data": {
      "text/plain": [
       "3250"
      ]
     },
     "execution_count": 19,
     "metadata": {},
     "output_type": "execute_result"
    }
   ],
   "source": [
    "len(data)"
   ]
  },
  {
   "cell_type": "code",
   "execution_count": 20,
   "metadata": {
    "execution": {
     "iopub.execute_input": "2021-12-15T05:48:06.679943Z",
     "iopub.status.busy": "2021-12-15T05:48:06.679714Z",
     "iopub.status.idle": "2021-12-15T05:48:06.694916Z",
     "shell.execute_reply": "2021-12-15T05:48:06.694156Z",
     "shell.execute_reply.started": "2021-12-15T05:48:06.679914Z"
    },
    "executionInfo": {
     "elapsed": 59,
     "status": "ok",
     "timestamp": 1639538419573,
     "user": {
      "displayName": "Himanshu Agrawal",
      "photoUrl": "https://lh3.googleusercontent.com/a-/AOh14GjP7W2fN8WTbaE8Cz4sW8MWqtRRM6M-4AsS00It=s64",
      "userId": "05949857934793656557"
     },
     "user_tz": -330
    },
    "id": "MvQDQ8jgF5zq",
    "outputId": "829d4c25-98bb-4b21-e439-6b977c1551c6"
   },
   "outputs": [
    {
     "data": {
      "text/plain": [
       "253"
      ]
     },
     "execution_count": 20,
     "metadata": {},
     "output_type": "execute_result"
    }
   ],
   "source": [
    "# Days in a year\n",
    "len(data.loc['2009-01-05':'2010-01-05'])"
   ]
  },
  {
   "cell_type": "code",
   "execution_count": 21,
   "metadata": {
    "execution": {
     "iopub.execute_input": "2021-12-15T05:48:06.696618Z",
     "iopub.status.busy": "2021-12-15T05:48:06.696079Z",
     "iopub.status.idle": "2021-12-15T05:48:06.705980Z",
     "shell.execute_reply": "2021-12-15T05:48:06.705121Z",
     "shell.execute_reply.started": "2021-12-15T05:48:06.696554Z"
    },
    "executionInfo": {
     "elapsed": 57,
     "status": "ok",
     "timestamp": 1639538419573,
     "user": {
      "displayName": "Himanshu Agrawal",
      "photoUrl": "https://lh3.googleusercontent.com/a-/AOh14GjP7W2fN8WTbaE8Cz4sW8MWqtRRM6M-4AsS00It=s64",
      "userId": "05949857934793656557"
     },
     "user_tz": -330
    },
    "id": "-owfNEcLGFe7",
    "outputId": "f3b1deb3-b3f6-4f49-e27a-36cd2258dfb0"
   },
   "outputs": [
    {
     "data": {
      "text/plain": [
       "252"
      ]
     },
     "execution_count": 21,
     "metadata": {},
     "output_type": "execute_result"
    }
   ],
   "source": [
    "len(data.loc['2011-01-05':'2012-01-04'])"
   ]
  },
  {
   "cell_type": "markdown",
   "metadata": {
    "id": "4Lzyebq9E4tv"
   },
   "source": [
    "## Splitting into train and test data"
   ]
  },
  {
   "cell_type": "markdown",
   "metadata": {
    "id": "SSWIu9QjE7jw"
   },
   "source": [
    "Split the data into a train/test where the test set is the last 6 months of data.\n"
   ]
  },
  {
   "cell_type": "code",
   "execution_count": 22,
   "metadata": {
    "execution": {
     "iopub.execute_input": "2021-12-15T05:48:06.708459Z",
     "iopub.status.busy": "2021-12-15T05:48:06.707563Z",
     "iopub.status.idle": "2021-12-15T05:48:06.718595Z",
     "shell.execute_reply": "2021-12-15T05:48:06.717771Z",
     "shell.execute_reply.started": "2021-12-15T05:48:06.708406Z"
    },
    "executionInfo": {
     "elapsed": 55,
     "status": "ok",
     "timestamp": 1639538419574,
     "user": {
      "displayName": "Himanshu Agrawal",
      "photoUrl": "https://lh3.googleusercontent.com/a-/AOh14GjP7W2fN8WTbaE8Cz4sW8MWqtRRM6M-4AsS00It=s64",
      "userId": "05949857934793656557"
     },
     "user_tz": -330
    },
    "id": "3-QM9BK2GHpH",
    "outputId": "af01bbf9-db65-40b1-9c3a-0e1ded1af613"
   },
   "outputs": [
    {
     "data": {
      "text/plain": [
       "DatetimeIndex(['2009-01-05', '2009-01-06', '2009-01-07', '2009-01-08',\n",
       "               '2009-01-09', '2009-01-12', '2009-01-13', '2009-01-14',\n",
       "               '2009-01-15', '2009-01-16',\n",
       "               ...\n",
       "               '2021-11-16', '2021-11-17', '2021-11-18', '2021-11-19',\n",
       "               '2021-11-22', '2021-11-23', '2021-11-24', '2021-11-26',\n",
       "               '2021-11-29', '2021-11-30'],\n",
       "              dtype='datetime64[ns]', name='Date', length=3250, freq=None)"
      ]
     },
     "execution_count": 22,
     "metadata": {},
     "output_type": "execute_result"
    }
   ],
   "source": [
    "data.index"
   ]
  },
  {
   "cell_type": "code",
   "execution_count": 23,
   "metadata": {
    "execution": {
     "iopub.execute_input": "2021-12-15T05:48:06.720230Z",
     "iopub.status.busy": "2021-12-15T05:48:06.719945Z",
     "iopub.status.idle": "2021-12-15T05:48:06.731763Z",
     "shell.execute_reply": "2021-12-15T05:48:06.731103Z",
     "shell.execute_reply.started": "2021-12-15T05:48:06.720197Z"
    },
    "executionInfo": {
     "elapsed": 55,
     "status": "ok",
     "timestamp": 1639538419577,
     "user": {
      "displayName": "Himanshu Agrawal",
      "photoUrl": "https://lh3.googleusercontent.com/a-/AOh14GjP7W2fN8WTbaE8Cz4sW8MWqtRRM6M-4AsS00It=s64",
      "userId": "05949857934793656557"
     },
     "user_tz": -330
    },
    "id": "w3ZTp3tJGgMW",
    "outputId": "c43d855d-34b7-4616-f671-aceec688a397"
   },
   "outputs": [
    {
     "data": {
      "text/plain": [
       "128"
      ]
     },
     "execution_count": 23,
     "metadata": {},
     "output_type": "execute_result"
    }
   ],
   "source": [
    "len(data.loc['2021-05-30':'2021-11-30'])"
   ]
  },
  {
   "cell_type": "code",
   "execution_count": 24,
   "metadata": {
    "execution": {
     "iopub.execute_input": "2021-12-15T05:48:06.733292Z",
     "iopub.status.busy": "2021-12-15T05:48:06.733033Z",
     "iopub.status.idle": "2021-12-15T05:48:06.743477Z",
     "shell.execute_reply": "2021-12-15T05:48:06.742499Z",
     "shell.execute_reply.started": "2021-12-15T05:48:06.733262Z"
    },
    "executionInfo": {
     "elapsed": 54,
     "status": "ok",
     "timestamp": 1639538419578,
     "user": {
      "displayName": "Himanshu Agrawal",
      "photoUrl": "https://lh3.googleusercontent.com/a-/AOh14GjP7W2fN8WTbaE8Cz4sW8MWqtRRM6M-4AsS00It=s64",
      "userId": "05949857934793656557"
     },
     "user_tz": -330
    },
    "id": "mEHhVsIrGkzn"
   },
   "outputs": [],
   "source": [
    "test_size = 128\n",
    "cutoff = len(data)- test_size"
   ]
  },
  {
   "cell_type": "code",
   "execution_count": 25,
   "metadata": {
    "execution": {
     "iopub.execute_input": "2021-12-15T05:48:06.745332Z",
     "iopub.status.busy": "2021-12-15T05:48:06.744906Z",
     "iopub.status.idle": "2021-12-15T05:48:06.757152Z",
     "shell.execute_reply": "2021-12-15T05:48:06.756501Z",
     "shell.execute_reply.started": "2021-12-15T05:48:06.745301Z"
    },
    "executionInfo": {
     "elapsed": 51,
     "status": "ok",
     "timestamp": 1639538419578,
     "user": {
      "displayName": "Himanshu Agrawal",
      "photoUrl": "https://lh3.googleusercontent.com/a-/AOh14GjP7W2fN8WTbaE8Cz4sW8MWqtRRM6M-4AsS00It=s64",
      "userId": "05949857934793656557"
     },
     "user_tz": -330
    },
    "id": "kzt3AnoYGmpT"
   },
   "outputs": [],
   "source": [
    "train = data.iloc[:cutoff]\n",
    "test = data.iloc[cutoff:]"
   ]
  },
  {
   "cell_type": "code",
   "execution_count": 26,
   "metadata": {
    "execution": {
     "iopub.execute_input": "2021-12-15T05:48:06.758805Z",
     "iopub.status.busy": "2021-12-15T05:48:06.758523Z",
     "iopub.status.idle": "2021-12-15T05:48:06.769621Z",
     "shell.execute_reply": "2021-12-15T05:48:06.768961Z",
     "shell.execute_reply.started": "2021-12-15T05:48:06.758775Z"
    },
    "executionInfo": {
     "elapsed": 52,
     "status": "ok",
     "timestamp": 1639538419579,
     "user": {
      "displayName": "Himanshu Agrawal",
      "photoUrl": "https://lh3.googleusercontent.com/a-/AOh14GjP7W2fN8WTbaE8Cz4sW8MWqtRRM6M-4AsS00It=s64",
      "userId": "05949857934793656557"
     },
     "user_tz": -330
    },
    "id": "KuEZdlB0GpmK",
    "outputId": "bbda342e-00c0-4889-828c-e1c5c37cbbc8"
   },
   "outputs": [
    {
     "data": {
      "text/plain": [
       "3122"
      ]
     },
     "execution_count": 26,
     "metadata": {},
     "output_type": "execute_result"
    }
   ],
   "source": [
    "len(train)"
   ]
  },
  {
   "cell_type": "code",
   "execution_count": 27,
   "metadata": {
    "execution": {
     "iopub.execute_input": "2021-12-15T05:48:06.771492Z",
     "iopub.status.busy": "2021-12-15T05:48:06.770832Z",
     "iopub.status.idle": "2021-12-15T05:48:06.781786Z",
     "shell.execute_reply": "2021-12-15T05:48:06.781129Z",
     "shell.execute_reply.started": "2021-12-15T05:48:06.771462Z"
    },
    "executionInfo": {
     "elapsed": 49,
     "status": "ok",
     "timestamp": 1639538419579,
     "user": {
      "displayName": "Himanshu Agrawal",
      "photoUrl": "https://lh3.googleusercontent.com/a-/AOh14GjP7W2fN8WTbaE8Cz4sW8MWqtRRM6M-4AsS00It=s64",
      "userId": "05949857934793656557"
     },
     "user_tz": -330
    },
    "id": "adAdQrEGGrTb",
    "outputId": "c81c686f-744f-4555-fa2f-20e77d8ea2fb"
   },
   "outputs": [
    {
     "data": {
      "text/plain": [
       "128"
      ]
     },
     "execution_count": 27,
     "metadata": {},
     "output_type": "execute_result"
    }
   ],
   "source": [
    "len(test)"
   ]
  },
  {
   "cell_type": "markdown",
   "metadata": {
    "id": "sPoxI1dNGzQh"
   },
   "source": [
    "## Scale Data"
   ]
  },
  {
   "cell_type": "markdown",
   "metadata": {
    "id": "I-YuRlwNG4Cz"
   },
   "source": [
    "Use a MinMaxScaler to scale the train and test sets into scaled versions."
   ]
  },
  {
   "cell_type": "code",
   "execution_count": 28,
   "metadata": {
    "execution": {
     "iopub.execute_input": "2021-12-15T05:48:06.788086Z",
     "iopub.status.busy": "2021-12-15T05:48:06.787567Z",
     "iopub.status.idle": "2021-12-15T05:48:06.791798Z",
     "shell.execute_reply": "2021-12-15T05:48:06.791113Z",
     "shell.execute_reply.started": "2021-12-15T05:48:06.788040Z"
    },
    "executionInfo": {
     "elapsed": 46,
     "status": "ok",
     "timestamp": 1639538419579,
     "user": {
      "displayName": "Himanshu Agrawal",
      "photoUrl": "https://lh3.googleusercontent.com/a-/AOh14GjP7W2fN8WTbaE8Cz4sW8MWqtRRM6M-4AsS00It=s64",
      "userId": "05949857934793656557"
     },
     "user_tz": -330
    },
    "id": "sXLWqPZaG5PW"
   },
   "outputs": [],
   "source": [
    "scaler = MinMaxScaler()"
   ]
  },
  {
   "cell_type": "code",
   "execution_count": 29,
   "metadata": {
    "execution": {
     "iopub.execute_input": "2021-12-15T05:48:06.793539Z",
     "iopub.status.busy": "2021-12-15T05:48:06.793113Z",
     "iopub.status.idle": "2021-12-15T05:48:06.810273Z",
     "shell.execute_reply": "2021-12-15T05:48:06.809464Z",
     "shell.execute_reply.started": "2021-12-15T05:48:06.793496Z"
    },
    "executionInfo": {
     "elapsed": 46,
     "status": "ok",
     "timestamp": 1639538419580,
     "user": {
      "displayName": "Himanshu Agrawal",
      "photoUrl": "https://lh3.googleusercontent.com/a-/AOh14GjP7W2fN8WTbaE8Cz4sW8MWqtRRM6M-4AsS00It=s64",
      "userId": "05949857934793656557"
     },
     "user_tz": -330
    },
    "id": "fXkX4SSxG-E9",
    "outputId": "15260a9a-e861-481e-b026-9ed71e267a56"
   },
   "outputs": [
    {
     "data": {
      "text/html": [
       "<style>#sk-container-id-1 {color: black;}#sk-container-id-1 pre{padding: 0;}#sk-container-id-1 div.sk-toggleable {background-color: white;}#sk-container-id-1 label.sk-toggleable__label {cursor: pointer;display: block;width: 100%;margin-bottom: 0;padding: 0.3em;box-sizing: border-box;text-align: center;}#sk-container-id-1 label.sk-toggleable__label-arrow:before {content: \"▸\";float: left;margin-right: 0.25em;color: #696969;}#sk-container-id-1 label.sk-toggleable__label-arrow:hover:before {color: black;}#sk-container-id-1 div.sk-estimator:hover label.sk-toggleable__label-arrow:before {color: black;}#sk-container-id-1 div.sk-toggleable__content {max-height: 0;max-width: 0;overflow: hidden;text-align: left;background-color: #f0f8ff;}#sk-container-id-1 div.sk-toggleable__content pre {margin: 0.2em;color: black;border-radius: 0.25em;background-color: #f0f8ff;}#sk-container-id-1 input.sk-toggleable__control:checked~div.sk-toggleable__content {max-height: 200px;max-width: 100%;overflow: auto;}#sk-container-id-1 input.sk-toggleable__control:checked~label.sk-toggleable__label-arrow:before {content: \"▾\";}#sk-container-id-1 div.sk-estimator input.sk-toggleable__control:checked~label.sk-toggleable__label {background-color: #d4ebff;}#sk-container-id-1 div.sk-label input.sk-toggleable__control:checked~label.sk-toggleable__label {background-color: #d4ebff;}#sk-container-id-1 input.sk-hidden--visually {border: 0;clip: rect(1px 1px 1px 1px);clip: rect(1px, 1px, 1px, 1px);height: 1px;margin: -1px;overflow: hidden;padding: 0;position: absolute;width: 1px;}#sk-container-id-1 div.sk-estimator {font-family: monospace;background-color: #f0f8ff;border: 1px dotted black;border-radius: 0.25em;box-sizing: border-box;margin-bottom: 0.5em;}#sk-container-id-1 div.sk-estimator:hover {background-color: #d4ebff;}#sk-container-id-1 div.sk-parallel-item::after {content: \"\";width: 100%;border-bottom: 1px solid gray;flex-grow: 1;}#sk-container-id-1 div.sk-label:hover label.sk-toggleable__label {background-color: #d4ebff;}#sk-container-id-1 div.sk-serial::before {content: \"\";position: absolute;border-left: 1px solid gray;box-sizing: border-box;top: 0;bottom: 0;left: 50%;z-index: 0;}#sk-container-id-1 div.sk-serial {display: flex;flex-direction: column;align-items: center;background-color: white;padding-right: 0.2em;padding-left: 0.2em;position: relative;}#sk-container-id-1 div.sk-item {position: relative;z-index: 1;}#sk-container-id-1 div.sk-parallel {display: flex;align-items: stretch;justify-content: center;background-color: white;position: relative;}#sk-container-id-1 div.sk-item::before, #sk-container-id-1 div.sk-parallel-item::before {content: \"\";position: absolute;border-left: 1px solid gray;box-sizing: border-box;top: 0;bottom: 0;left: 50%;z-index: -1;}#sk-container-id-1 div.sk-parallel-item {display: flex;flex-direction: column;z-index: 1;position: relative;background-color: white;}#sk-container-id-1 div.sk-parallel-item:first-child::after {align-self: flex-end;width: 50%;}#sk-container-id-1 div.sk-parallel-item:last-child::after {align-self: flex-start;width: 50%;}#sk-container-id-1 div.sk-parallel-item:only-child::after {width: 0;}#sk-container-id-1 div.sk-dashed-wrapped {border: 1px dashed gray;margin: 0 0.4em 0.5em 0.4em;box-sizing: border-box;padding-bottom: 0.4em;background-color: white;}#sk-container-id-1 div.sk-label label {font-family: monospace;font-weight: bold;display: inline-block;line-height: 1.2em;}#sk-container-id-1 div.sk-label-container {text-align: center;}#sk-container-id-1 div.sk-container {/* jupyter's `normalize.less` sets `[hidden] { display: none; }` but bootstrap.min.css set `[hidden] { display: none !important; }` so we also need the `!important` here to be able to override the default hidden behavior on the sphinx rendered scikit-learn.org. See: https://github.com/scikit-learn/scikit-learn/issues/21755 */display: inline-block !important;position: relative;}#sk-container-id-1 div.sk-text-repr-fallback {display: none;}</style><div id=\"sk-container-id-1\" class=\"sk-top-container\"><div class=\"sk-text-repr-fallback\"><pre>MinMaxScaler()</pre><b>In a Jupyter environment, please rerun this cell to show the HTML representation or trust the notebook. <br />On GitHub, the HTML representation is unable to render, please try loading this page with nbviewer.org.</b></div><div class=\"sk-container\" hidden><div class=\"sk-item\"><div class=\"sk-estimator sk-toggleable\"><input class=\"sk-toggleable__control sk-hidden--visually\" id=\"sk-estimator-id-1\" type=\"checkbox\" checked><label for=\"sk-estimator-id-1\" class=\"sk-toggleable__label sk-toggleable__label-arrow\">MinMaxScaler</label><div class=\"sk-toggleable__content\"><pre>MinMaxScaler()</pre></div></div></div></div></div>"
      ],
      "text/plain": [
       "MinMaxScaler()"
      ]
     },
     "execution_count": 29,
     "metadata": {},
     "output_type": "execute_result"
    }
   ],
   "source": [
    "# WE ONLY FIT TO TRAININ DATA, OTHERWISE WE ARE CHEATING ASSUMING INFO ABOUT TEST SET\n",
    "scaler.fit(train)"
   ]
  },
  {
   "cell_type": "code",
   "execution_count": 30,
   "metadata": {
    "execution": {
     "iopub.execute_input": "2021-12-15T05:48:06.812752Z",
     "iopub.status.busy": "2021-12-15T05:48:06.811455Z",
     "iopub.status.idle": "2021-12-15T05:48:06.819830Z",
     "shell.execute_reply": "2021-12-15T05:48:06.819175Z",
     "shell.execute_reply.started": "2021-12-15T05:48:06.812714Z"
    },
    "executionInfo": {
     "elapsed": 44,
     "status": "ok",
     "timestamp": 1639538419580,
     "user": {
      "displayName": "Himanshu Agrawal",
      "photoUrl": "https://lh3.googleusercontent.com/a-/AOh14GjP7W2fN8WTbaE8Cz4sW8MWqtRRM6M-4AsS00It=s64",
      "userId": "05949857934793656557"
     },
     "user_tz": -330
    },
    "id": "2cjPgUwSHAtA"
   },
   "outputs": [],
   "source": [
    "scaled_train = scaler.transform(train)\n",
    "scaled_test = scaler.transform(test)"
   ]
  },
  {
   "cell_type": "markdown",
   "metadata": {
    "id": "2U6AtaXPHF9v"
   },
   "source": [
    "## Time Series Generator"
   ]
  },
  {
   "cell_type": "markdown",
   "metadata": {
    "id": "R5QulOFRHJog"
   },
   "source": [
    "Create a TimeSeriesGenerator object based off the scaled_train data. length should be eual to the number that can capture the seasonality or patten or behaviour how prices increase or decrese in a cycle."
   ]
  },
  {
   "cell_type": "code",
   "execution_count": 31,
   "metadata": {
    "execution": {
     "iopub.execute_input": "2021-12-15T05:48:06.821329Z",
     "iopub.status.busy": "2021-12-15T05:48:06.821100Z",
     "iopub.status.idle": "2021-12-15T05:48:06.830852Z",
     "shell.execute_reply": "2021-12-15T05:48:06.830160Z",
     "shell.execute_reply.started": "2021-12-15T05:48:06.821301Z"
    },
    "executionInfo": {
     "elapsed": 45,
     "status": "ok",
     "timestamp": 1639538419582,
     "user": {
      "displayName": "Himanshu Agrawal",
      "photoUrl": "https://lh3.googleusercontent.com/a-/AOh14GjP7W2fN8WTbaE8Cz4sW8MWqtRRM6M-4AsS00It=s64",
      "userId": "05949857934793656557"
     },
     "user_tz": -330
    },
    "id": "fcN0u3EcHLae"
   },
   "outputs": [],
   "source": [
    "from tensorflow.keras.preprocessing.sequence import TimeseriesGenerator\n",
    "length = 126 #(6 months days considering 252 average days in a year)\n",
    "generator = TimeseriesGenerator(scaled_train, scaled_train, length=length, batch_size=32)"
   ]
  },
  {
   "cell_type": "markdown",
   "metadata": {
    "id": "G-XWuVJGHXaJ"
   },
   "source": [
    "## Create the Model"
   ]
  },
  {
   "cell_type": "code",
   "execution_count": 32,
   "metadata": {
    "execution": {
     "iopub.execute_input": "2021-12-15T05:48:06.832614Z",
     "iopub.status.busy": "2021-12-15T05:48:06.832155Z",
     "iopub.status.idle": "2021-12-15T05:48:06.844339Z",
     "shell.execute_reply": "2021-12-15T05:48:06.843653Z",
     "shell.execute_reply.started": "2021-12-15T05:48:06.832564Z"
    },
    "executionInfo": {
     "elapsed": 45,
     "status": "ok",
     "timestamp": 1639538419583,
     "user": {
      "displayName": "Himanshu Agrawal",
      "photoUrl": "https://lh3.googleusercontent.com/a-/AOh14GjP7W2fN8WTbaE8Cz4sW8MWqtRRM6M-4AsS00It=s64",
      "userId": "05949857934793656557"
     },
     "user_tz": -330
    },
    "id": "Vb4cGBQPHYHL"
   },
   "outputs": [],
   "source": [
    "from tensorflow.keras.layers import Dropout"
   ]
  },
  {
   "cell_type": "code",
   "execution_count": 33,
   "metadata": {
    "execution": {
     "iopub.execute_input": "2021-12-15T05:48:06.846094Z",
     "iopub.status.busy": "2021-12-15T05:48:06.845684Z",
     "iopub.status.idle": "2021-12-15T05:48:07.772469Z",
     "shell.execute_reply": "2021-12-15T05:48:07.771857Z",
     "shell.execute_reply.started": "2021-12-15T05:48:06.846053Z"
    },
    "executionInfo": {
     "elapsed": 46,
     "status": "ok",
     "timestamp": 1639538419584,
     "user": {
      "displayName": "Himanshu Agrawal",
      "photoUrl": "https://lh3.googleusercontent.com/a-/AOh14GjP7W2fN8WTbaE8Cz4sW8MWqtRRM6M-4AsS00It=s64",
      "userId": "05949857934793656557"
     },
     "user_tz": -330
    },
    "id": "HeEMObJIHajT"
   },
   "outputs": [],
   "source": [
    "model = Sequential()\n",
    "n_features = 1\n",
    "\n",
    "model.add(LSTM(100, input_shape=(length, n_features), return_sequences=True))\n",
    "model.add(Dropout(0.3))\n",
    "model.add(LSTM(50, return_sequences=True))\n",
    "model.add(Dropout(0.25))\n",
    "model.add(LSTM(25))\n",
    "model.add(Dropout(0.2))\n",
    "\n",
    "model.add(Dense(1))\n",
    "model.compile(optimizer='adam', loss='mse')"
   ]
  },
  {
   "cell_type": "code",
   "execution_count": 34,
   "metadata": {
    "execution": {
     "iopub.execute_input": "2021-12-15T05:48:07.774596Z",
     "iopub.status.busy": "2021-12-15T05:48:07.773718Z",
     "iopub.status.idle": "2021-12-15T05:48:07.779535Z",
     "shell.execute_reply": "2021-12-15T05:48:07.778520Z",
     "shell.execute_reply.started": "2021-12-15T05:48:07.774521Z"
    },
    "executionInfo": {
     "elapsed": 45,
     "status": "ok",
     "timestamp": 1639538419584,
     "user": {
      "displayName": "Himanshu Agrawal",
      "photoUrl": "https://lh3.googleusercontent.com/a-/AOh14GjP7W2fN8WTbaE8Cz4sW8MWqtRRM6M-4AsS00It=s64",
      "userId": "05949857934793656557"
     },
     "user_tz": -330
    },
    "id": "H8xaEO3RHhpi"
   },
   "outputs": [],
   "source": [
    "X,y = generator[0]"
   ]
  },
  {
   "cell_type": "code",
   "execution_count": 35,
   "metadata": {
    "execution": {
     "iopub.execute_input": "2021-12-15T05:48:07.781815Z",
     "iopub.status.busy": "2021-12-15T05:48:07.781314Z",
     "iopub.status.idle": "2021-12-15T05:48:07.792458Z",
     "shell.execute_reply": "2021-12-15T05:48:07.791834Z",
     "shell.execute_reply.started": "2021-12-15T05:48:07.781770Z"
    },
    "executionInfo": {
     "elapsed": 46,
     "status": "ok",
     "timestamp": 1639538419585,
     "user": {
      "displayName": "Himanshu Agrawal",
      "photoUrl": "https://lh3.googleusercontent.com/a-/AOh14GjP7W2fN8WTbaE8Cz4sW8MWqtRRM6M-4AsS00It=s64",
      "userId": "05949857934793656557"
     },
     "user_tz": -330
    },
    "id": "aBNF5pa_HkKt",
    "outputId": "88840d54-eb2c-431c-e15a-97cb83895c92"
   },
   "outputs": [
    {
     "data": {
      "text/plain": [
       "(32, 126, 1)"
      ]
     },
     "execution_count": 35,
     "metadata": {},
     "output_type": "execute_result"
    }
   ],
   "source": [
    "X.shape"
   ]
  },
  {
   "cell_type": "code",
   "execution_count": 36,
   "metadata": {
    "execution": {
     "iopub.execute_input": "2021-12-15T05:48:07.794314Z",
     "iopub.status.busy": "2021-12-15T05:48:07.794087Z",
     "iopub.status.idle": "2021-12-15T05:48:07.806110Z",
     "shell.execute_reply": "2021-12-15T05:48:07.805322Z",
     "shell.execute_reply.started": "2021-12-15T05:48:07.794287Z"
    },
    "executionInfo": {
     "elapsed": 41,
     "status": "ok",
     "timestamp": 1639538419585,
     "user": {
      "displayName": "Himanshu Agrawal",
      "photoUrl": "https://lh3.googleusercontent.com/a-/AOh14GjP7W2fN8WTbaE8Cz4sW8MWqtRRM6M-4AsS00It=s64",
      "userId": "05949857934793656557"
     },
     "user_tz": -330
    },
    "id": "RyOMUBkmHm-i",
    "outputId": "f9c3eaeb-c244-4634-ee44-d74979d166e1"
   },
   "outputs": [
    {
     "data": {
      "text/plain": [
       "(32, 1)"
      ]
     },
     "execution_count": 36,
     "metadata": {},
     "output_type": "execute_result"
    }
   ],
   "source": [
    "y.shape"
   ]
  },
  {
   "cell_type": "code",
   "execution_count": 37,
   "metadata": {
    "execution": {
     "iopub.execute_input": "2021-12-15T05:48:07.808648Z",
     "iopub.status.busy": "2021-12-15T05:48:07.807920Z",
     "iopub.status.idle": "2021-12-15T05:48:07.820245Z",
     "shell.execute_reply": "2021-12-15T05:48:07.819452Z",
     "shell.execute_reply.started": "2021-12-15T05:48:07.808560Z"
    },
    "executionInfo": {
     "elapsed": 39,
     "status": "ok",
     "timestamp": 1639538419586,
     "user": {
      "displayName": "Himanshu Agrawal",
      "photoUrl": "https://lh3.googleusercontent.com/a-/AOh14GjP7W2fN8WTbaE8Cz4sW8MWqtRRM6M-4AsS00It=s64",
      "userId": "05949857934793656557"
     },
     "user_tz": -330
    },
    "id": "DGE9dvDWHpau",
    "outputId": "649ade3f-804b-4248-8b04-6a129c56b79c"
   },
   "outputs": [
    {
     "name": "stdout",
     "output_type": "stream",
     "text": [
      "Model: \"sequential\"\n",
      "_________________________________________________________________\n",
      " Layer (type)                Output Shape              Param #   \n",
      "=================================================================\n",
      " lstm (LSTM)                 (None, 126, 100)          40800     \n",
      "                                                                 \n",
      " dropout (Dropout)           (None, 126, 100)          0         \n",
      "                                                                 \n",
      " lstm_1 (LSTM)               (None, 126, 50)           30200     \n",
      "                                                                 \n",
      " dropout_1 (Dropout)         (None, 126, 50)           0         \n",
      "                                                                 \n",
      " lstm_2 (LSTM)               (None, 25)                7600      \n",
      "                                                                 \n",
      " dropout_2 (Dropout)         (None, 25)                0         \n",
      "                                                                 \n",
      " dense (Dense)               (None, 1)                 26        \n",
      "                                                                 \n",
      "=================================================================\n",
      "Total params: 78626 (307.13 KB)\n",
      "Trainable params: 78626 (307.13 KB)\n",
      "Non-trainable params: 0 (0.00 Byte)\n",
      "_________________________________________________________________\n"
     ]
    }
   ],
   "source": [
    "model.summary()"
   ]
  },
  {
   "cell_type": "code",
   "execution_count": 38,
   "metadata": {
    "execution": {
     "iopub.execute_input": "2021-12-15T05:48:07.822773Z",
     "iopub.status.busy": "2021-12-15T05:48:07.821295Z",
     "iopub.status.idle": "2021-12-15T05:48:07.826220Z",
     "shell.execute_reply": "2021-12-15T05:48:07.825640Z",
     "shell.execute_reply.started": "2021-12-15T05:48:07.822734Z"
    },
    "executionInfo": {
     "elapsed": 1903,
     "status": "ok",
     "timestamp": 1639538421452,
     "user": {
      "displayName": "Himanshu Agrawal",
      "photoUrl": "https://lh3.googleusercontent.com/a-/AOh14GjP7W2fN8WTbaE8Cz4sW8MWqtRRM6M-4AsS00It=s64",
      "userId": "05949857934793656557"
     },
     "user_tz": -330
    },
    "id": "TaJqSGYaHrmC"
   },
   "outputs": [],
   "source": [
    "validation_generator = TimeseriesGenerator(scaled_test,scaled_test, length=length, batch_size=32)"
   ]
  },
  {
   "cell_type": "code",
   "execution_count": 39,
   "metadata": {
    "execution": {
     "iopub.execute_input": "2021-12-15T05:48:07.827708Z",
     "iopub.status.busy": "2021-12-15T05:48:07.827452Z",
     "iopub.status.idle": "2021-12-15T05:48:07.840210Z",
     "shell.execute_reply": "2021-12-15T05:48:07.839153Z",
     "shell.execute_reply.started": "2021-12-15T05:48:07.827679Z"
    },
    "executionInfo": {
     "elapsed": 19,
     "status": "ok",
     "timestamp": 1639538421452,
     "user": {
      "displayName": "Himanshu Agrawal",
      "photoUrl": "https://lh3.googleusercontent.com/a-/AOh14GjP7W2fN8WTbaE8Cz4sW8MWqtRRM6M-4AsS00It=s64",
      "userId": "05949857934793656557"
     },
     "user_tz": -330
    },
    "id": "eEnnDWImHuxv"
   },
   "outputs": [],
   "source": [
    "from tensorflow.keras.callbacks import EarlyStopping\n",
    "early_stop = EarlyStopping(monitor='val_loss',patience=10)"
   ]
  },
  {
   "cell_type": "code",
   "execution_count": 40,
   "metadata": {
    "execution": {
     "iopub.execute_input": "2021-12-15T05:48:07.841949Z",
     "iopub.status.busy": "2021-12-15T05:48:07.841479Z",
     "iopub.status.idle": "2021-12-15T06:06:01.144976Z",
     "shell.execute_reply": "2021-12-15T06:06:01.143961Z",
     "shell.execute_reply.started": "2021-12-15T05:48:07.841913Z"
    },
    "executionInfo": {
     "elapsed": 626644,
     "status": "ok",
     "timestamp": 1639539048078,
     "user": {
      "displayName": "Himanshu Agrawal",
      "photoUrl": "https://lh3.googleusercontent.com/a-/AOh14GjP7W2fN8WTbaE8Cz4sW8MWqtRRM6M-4AsS00It=s64",
      "userId": "05949857934793656557"
     },
     "user_tz": -330
    },
    "id": "8M4q4nbbHxbh",
    "outputId": "964f31b6-83bb-4e7b-b827-ae7249d65a8c"
   },
   "outputs": [
    {
     "name": "stdout",
     "output_type": "stream",
     "text": [
      "Epoch 1/40\n"
     ]
    },
    {
     "name": "stderr",
     "output_type": "stream",
     "text": [
      "C:\\Users\\Lenovo\\AppData\\Local\\Temp\\ipykernel_8488\\2772496683.py:2: UserWarning: `Model.fit_generator` is deprecated and will be removed in a future version. Please use `Model.fit`, which supports generators.\n",
      "  model.fit_generator(generator,epochs=40,\n"
     ]
    },
    {
     "name": "stdout",
     "output_type": "stream",
     "text": [
      "94/94 [==============================] - 28s 229ms/step - loss: 0.0106 - val_loss: 0.0147\n",
      "Epoch 2/40\n",
      "94/94 [==============================] - 20s 208ms/step - loss: 0.0060 - val_loss: 0.0133\n",
      "Epoch 3/40\n",
      "94/94 [==============================] - 20s 210ms/step - loss: 0.0027 - val_loss: 0.0524\n",
      "Epoch 4/40\n",
      "94/94 [==============================] - 25s 263ms/step - loss: 0.0029 - val_loss: 1.3120e-04\n",
      "Epoch 5/40\n",
      "94/94 [==============================] - 23s 240ms/step - loss: 0.0016 - val_loss: 0.0054\n",
      "Epoch 6/40\n",
      "94/94 [==============================] - 20s 210ms/step - loss: 0.0016 - val_loss: 0.0153\n",
      "Epoch 7/40\n",
      "94/94 [==============================] - 20s 209ms/step - loss: 0.0031 - val_loss: 7.4101e-05\n",
      "Epoch 8/40\n",
      "94/94 [==============================] - 20s 209ms/step - loss: 0.0018 - val_loss: 0.0503\n",
      "Epoch 9/40\n",
      "94/94 [==============================] - 20s 212ms/step - loss: 0.0017 - val_loss: 0.0107\n",
      "Epoch 10/40\n",
      "94/94 [==============================] - 20s 212ms/step - loss: 0.0024 - val_loss: 0.0151\n",
      "Epoch 11/40\n",
      "94/94 [==============================] - 20s 209ms/step - loss: 0.0012 - val_loss: 0.0031\n",
      "Epoch 12/40\n",
      "94/94 [==============================] - 20s 211ms/step - loss: 0.0014 - val_loss: 0.0023\n",
      "Epoch 13/40\n",
      "94/94 [==============================] - 20s 210ms/step - loss: 0.0014 - val_loss: 0.0569\n",
      "Epoch 14/40\n",
      "94/94 [==============================] - 20s 209ms/step - loss: 0.0037 - val_loss: 0.4709\n",
      "Epoch 15/40\n",
      "94/94 [==============================] - 21s 221ms/step - loss: 0.0056 - val_loss: 0.0036\n",
      "Epoch 16/40\n",
      "94/94 [==============================] - 20s 209ms/step - loss: 0.0019 - val_loss: 0.0199\n",
      "Epoch 17/40\n",
      "94/94 [==============================] - 20s 209ms/step - loss: 0.0011 - val_loss: 0.0111\n"
     ]
    },
    {
     "data": {
      "text/plain": [
       "<keras.src.callbacks.History at 0x1fe2e195b90>"
      ]
     },
     "execution_count": 40,
     "metadata": {},
     "output_type": "execute_result"
    }
   ],
   "source": [
    "# fit model\n",
    "model.fit_generator(generator,epochs=40,\n",
    "                    validation_data=validation_generator,\n",
    "                    callbacks=[early_stop])"
   ]
  },
  {
   "cell_type": "code",
   "execution_count": 41,
   "metadata": {
    "execution": {
     "iopub.execute_input": "2021-12-15T06:06:01.146859Z",
     "iopub.status.busy": "2021-12-15T06:06:01.146542Z",
     "iopub.status.idle": "2021-12-15T06:06:01.412157Z",
     "shell.execute_reply": "2021-12-15T06:06:01.411346Z",
     "shell.execute_reply.started": "2021-12-15T06:06:01.146828Z"
    },
    "executionInfo": {
     "elapsed": 47,
     "status": "ok",
     "timestamp": 1639539048079,
     "user": {
      "displayName": "Himanshu Agrawal",
      "photoUrl": "https://lh3.googleusercontent.com/a-/AOh14GjP7W2fN8WTbaE8Cz4sW8MWqtRRM6M-4AsS00It=s64",
      "userId": "05949857934793656557"
     },
     "user_tz": -330
    },
    "id": "Pe_5GljsH656",
    "outputId": "644e1bad-39da-43f3-9db0-5df9e4ffa48e"
   },
   "outputs": [
    {
     "data": {
      "text/plain": [
       "<Axes: >"
      ]
     },
     "execution_count": 41,
     "metadata": {},
     "output_type": "execute_result"
    },
    {
     "data": {
      "image/png": "[encoded data removed]",
      "text/plain": [
       "<Figure size 640x480 with 1 Axes>"
      ]
     },
     "metadata": {},
     "output_type": "display_data"
    }
   ],
   "source": [
    "loss = pd.DataFrame(model.history.history)\n",
    "loss.plot()"
   ]
  },
  {
   "cell_type": "markdown",
   "metadata": {
    "id": "SM6aClRrICIh"
   },
   "source": [
    "## Prediction"
   ]
  },
  {
   "cell_type": "code",
   "execution_count": 42,
   "metadata": {
    "execution": {
     "iopub.execute_input": "2021-12-15T06:06:01.414150Z",
     "iopub.status.busy": "2021-12-15T06:06:01.413765Z",
     "iopub.status.idle": "2021-12-15T06:06:13.537659Z",
     "shell.execute_reply": "2021-12-15T06:06:13.537003Z",
     "shell.execute_reply.started": "2021-12-15T06:06:01.414105Z"
    },
    "executionInfo": {
     "elapsed": 9864,
     "status": "ok",
     "timestamp": 1639539057932,
     "user": {
      "displayName": "Himanshu Agrawal",
      "photoUrl": "https://lh3.googleusercontent.com/a-/AOh14GjP7W2fN8WTbaE8Cz4sW8MWqtRRM6M-4AsS00It=s64",
      "userId": "05949857934793656557"
     },
     "user_tz": -330
    },
    "id": "QSXxMBdZIIvy"
   },
   "outputs": [
    {
     "name": "stdout",
     "output_type": "stream",
     "text": [
      "1/1 [==============================] - 1s 1s/step\n",
      "1/1 [==============================] - 0s 40ms/step\n",
      "1/1 [==============================] - 0s 41ms/step\n",
      "1/1 [==============================] - 0s 40ms/step\n",
      "1/1 [==============================] - 0s 33ms/step\n",
      "1/1 [==============================] - 0s 33ms/step\n",
      "1/1 [==============================] - 0s 33ms/step\n",
      "1/1 [==============================] - 0s 57ms/step\n",
      "1/1 [==============================] - 0s 55ms/step\n",
      "1/1 [==============================] - 0s 36ms/step\n",
      "1/1 [==============================] - 0s 40ms/step\n",
      "1/1 [==============================] - 0s 33ms/step\n",
      "1/1 [==============================] - 0s 41ms/step\n",
      "1/1 [==============================] - 0s 41ms/step\n",
      "1/1 [==============================] - 0s 41ms/step\n",
      "1/1 [==============================] - 0s 40ms/step\n",
      "1/1 [==============================] - 0s 33ms/step\n",
      "1/1 [==============================] - 0s 33ms/step\n",
      "1/1 [==============================] - 0s 41ms/step\n",
      "1/1 [==============================] - 0s 56ms/step\n",
      "1/1 [==============================] - 0s 33ms/step\n",
      "1/1 [==============================] - 0s 41ms/step\n",
      "1/1 [==============================] - 0s 33ms/step\n",
      "1/1 [==============================] - 0s 33ms/step\n",
      "1/1 [==============================] - 0s 40ms/step\n",
      "1/1 [==============================] - 0s 33ms/step\n",
      "1/1 [==============================] - 0s 43ms/step\n",
      "1/1 [==============================] - 0s 32ms/step\n",
      "1/1 [==============================] - 0s 33ms/step\n",
      "1/1 [==============================] - 0s 50ms/step\n",
      "1/1 [==============================] - 0s 38ms/step\n",
      "1/1 [==============================] - 0s 48ms/step\n",
      "1/1 [==============================] - 0s 41ms/step\n",
      "1/1 [==============================] - 0s 35ms/step\n",
      "1/1 [==============================] - 0s 39ms/step\n",
      "1/1 [==============================] - 0s 33ms/step\n",
      "1/1 [==============================] - 0s 40ms/step\n",
      "1/1 [==============================] - 0s 33ms/step\n",
      "1/1 [==============================] - 0s 32ms/step\n",
      "1/1 [==============================] - 0s 35ms/step\n",
      "1/1 [==============================] - 0s 39ms/step\n",
      "1/1 [==============================] - 0s 49ms/step\n",
      "1/1 [==============================] - 0s 33ms/step\n",
      "1/1 [==============================] - 0s 37ms/step\n",
      "1/1 [==============================] - 0s 41ms/step\n",
      "1/1 [==============================] - 0s 50ms/step\n",
      "1/1 [==============================] - 0s 41ms/step\n",
      "1/1 [==============================] - 0s 41ms/step\n",
      "1/1 [==============================] - 0s 42ms/step\n",
      "1/1 [==============================] - 0s 33ms/step\n",
      "1/1 [==============================] - 0s 33ms/step\n",
      "1/1 [==============================] - 0s 36ms/step\n",
      "1/1 [==============================] - 0s 41ms/step\n",
      "1/1 [==============================] - 0s 49ms/step\n",
      "1/1 [==============================] - 0s 40ms/step\n",
      "1/1 [==============================] - 0s 33ms/step\n",
      "1/1 [==============================] - 0s 33ms/step\n",
      "1/1 [==============================] - 0s 33ms/step\n",
      "1/1 [==============================] - 0s 51ms/step\n",
      "1/1 [==============================] - 0s 39ms/step\n",
      "1/1 [==============================] - 0s 33ms/step\n",
      "1/1 [==============================] - 0s 41ms/step\n",
      "1/1 [==============================] - 0s 36ms/step\n",
      "1/1 [==============================] - 0s 41ms/step\n",
      "1/1 [==============================] - 0s 33ms/step\n",
      "1/1 [==============================] - 0s 34ms/step\n",
      "1/1 [==============================] - 0s 40ms/step\n",
      "1/1 [==============================] - 0s 49ms/step\n",
      "1/1 [==============================] - 0s 41ms/step\n",
      "1/1 [==============================] - 0s 41ms/step\n",
      "1/1 [==============================] - 0s 41ms/step\n",
      "1/1 [==============================] - 0s 33ms/step\n",
      "1/1 [==============================] - 0s 40ms/step\n",
      "1/1 [==============================] - 0s 39ms/step\n",
      "1/1 [==============================] - 0s 49ms/step\n",
      "1/1 [==============================] - 0s 33ms/step\n",
      "1/1 [==============================] - 0s 37ms/step\n",
      "1/1 [==============================] - 0s 41ms/step\n",
      "1/1 [==============================] - 0s 33ms/step\n",
      "1/1 [==============================] - 0s 36ms/step\n",
      "1/1 [==============================] - 0s 41ms/step\n",
      "1/1 [==============================] - 0s 49ms/step\n",
      "1/1 [==============================] - 0s 40ms/step\n",
      "1/1 [==============================] - 0s 41ms/step\n",
      "1/1 [==============================] - 0s 33ms/step\n",
      "1/1 [==============================] - 0s 33ms/step\n",
      "1/1 [==============================] - 0s 49ms/step\n",
      "1/1 [==============================] - 0s 39ms/step\n",
      "1/1 [==============================] - 0s 33ms/step\n",
      "1/1 [==============================] - 0s 33ms/step\n",
      "1/1 [==============================] - 0s 40ms/step\n",
      "1/1 [==============================] - 0s 41ms/step\n",
      "1/1 [==============================] - 0s 33ms/step\n",
      "1/1 [==============================] - 0s 33ms/step\n",
      "1/1 [==============================] - 0s 41ms/step\n",
      "1/1 [==============================] - 0s 41ms/step\n",
      "1/1 [==============================] - 0s 33ms/step\n",
      "1/1 [==============================] - 0s 55ms/step\n",
      "1/1 [==============================] - 0s 33ms/step\n",
      "1/1 [==============================] - 0s 41ms/step\n",
      "1/1 [==============================] - 0s 33ms/step\n",
      "1/1 [==============================] - 0s 41ms/step\n",
      "1/1 [==============================] - 0s 41ms/step\n",
      "1/1 [==============================] - 0s 33ms/step\n",
      "1/1 [==============================] - 0s 40ms/step\n",
      "1/1 [==============================] - 0s 39ms/step\n",
      "1/1 [==============================] - 0s 45ms/step\n",
      "1/1 [==============================] - 0s 33ms/step\n",
      "1/1 [==============================] - 0s 41ms/step\n",
      "1/1 [==============================] - 0s 41ms/step\n",
      "1/1 [==============================] - 0s 37ms/step\n",
      "1/1 [==============================] - 0s 36ms/step\n",
      "1/1 [==============================] - 0s 41ms/step\n",
      "1/1 [==============================] - 0s 41ms/step\n",
      "1/1 [==============================] - 0s 38ms/step\n",
      "1/1 [==============================] - 0s 39ms/step\n",
      "1/1 [==============================] - 0s 41ms/step\n",
      "1/1 [==============================] - 0s 49ms/step\n",
      "1/1 [==============================] - 0s 33ms/step\n",
      "1/1 [==============================] - 0s 33ms/step\n",
      "1/1 [==============================] - 0s 33ms/step\n",
      "1/1 [==============================] - 0s 33ms/step\n",
      "1/1 [==============================] - 0s 41ms/step\n",
      "1/1 [==============================] - 0s 32ms/step\n",
      "1/1 [==============================] - 0s 33ms/step\n",
      "1/1 [==============================] - 0s 33ms/step\n",
      "1/1 [==============================] - 0s 33ms/step\n",
      "1/1 [==============================] - 0s 33ms/step\n"
     ]
    }
   ],
   "source": [
    "test_predictions = []\n",
    "\n",
    "first_eval_batch = scaled_train[-length:]\n",
    "current_batch = first_eval_batch.reshape((1, length, n_features))\n",
    "\n",
    "for i in range(len(test)):\n",
    "    \n",
    "    # get prediction 1 time stamp ahead ([0] is for grabbing just the number instead of [array])\n",
    "    current_pred = model.predict(current_batch)[0]\n",
    "    \n",
    "    # store prediction\n",
    "    test_predictions.append(current_pred) \n",
    "    \n",
    "    # update batch to now include prediction and drop first value\n",
    "    current_batch = np.append(current_batch[:,1:,:],[[current_pred]],axis=1)"
   ]
  },
  {
   "cell_type": "code",
   "execution_count": 43,
   "metadata": {
    "execution": {
     "iopub.execute_input": "2021-12-15T06:06:13.539618Z",
     "iopub.status.busy": "2021-12-15T06:06:13.538908Z",
     "iopub.status.idle": "2021-12-15T06:06:13.555899Z",
     "shell.execute_reply": "2021-12-15T06:06:13.555338Z",
     "shell.execute_reply.started": "2021-12-15T06:06:13.539564Z"
    },
    "executionInfo": {
     "elapsed": 52,
     "status": "ok",
     "timestamp": 1639539057933,
     "user": {
      "displayName": "Himanshu Agrawal",
      "photoUrl": "https://lh3.googleusercontent.com/a-/AOh14GjP7W2fN8WTbaE8Cz4sW8MWqtRRM6M-4AsS00It=s64",
      "userId": "05949857934793656557"
     },
     "user_tz": -330
    },
    "id": "KI1CNZnTIKMz",
    "outputId": "c3037271-2940-4bc7-9083-bf67148b7d35"
   },
   "outputs": [
    {
     "name": "stderr",
     "output_type": "stream",
     "text": [
      "C:\\Users\\Lenovo\\AppData\\Local\\Temp\\ipykernel_8488\\1500917942.py:2: SettingWithCopyWarning: \n",
      "A value is trying to be set on a copy of a slice from a DataFrame.\n",
      "Try using .loc[row_indexer,col_indexer] = value instead\n",
      "\n",
      "See the caveats in the documentation: https://pandas.pydata.org/pandas-docs/stable/user_guide/indexing.html#returning-a-view-versus-a-copy\n",
      "  test['Predictions'] = true_predictions\n"
     ]
    },
    {
     "data": {
      "text/html": [
       "<div>\n",
       "<style scoped>\n",
       "    .dataframe tbody tr th:only-of-type {\n",
       "        vertical-align: middle;\n",
       "    }\n",
       "\n",
       "    .dataframe tbody tr th {\n",
       "        vertical-align: top;\n",
       "    }\n",
       "\n",
       "    .dataframe thead th {\n",
       "        text-align: right;\n",
       "    }\n",
       "</style>\n",
       "<table border=\"1\" class=\"dataframe\">\n",
       "  <thead>\n",
       "    <tr style=\"text-align: right;\">\n",
       "      <th></th>\n",
       "      <th>Avg_price</th>\n",
       "      <th>Predictions</th>\n",
       "    </tr>\n",
       "    <tr>\n",
       "      <th>Date</th>\n",
       "      <th></th>\n",
       "      <th></th>\n",
       "    </tr>\n",
       "  </thead>\n",
       "  <tbody>\n",
       "    <tr>\n",
       "      <th>2021-06-01</th>\n",
       "      <td>124.645000</td>\n",
       "      <td>124.780167</td>\n",
       "    </tr>\n",
       "    <tr>\n",
       "      <th>2021-06-02</th>\n",
       "      <td>124.645001</td>\n",
       "      <td>124.756490</td>\n",
       "    </tr>\n",
       "    <tr>\n",
       "      <th>2021-06-03</th>\n",
       "      <td>123.989998</td>\n",
       "      <td>124.696678</td>\n",
       "    </tr>\n",
       "    <tr>\n",
       "      <th>2021-06-04</th>\n",
       "      <td>125.005001</td>\n",
       "      <td>124.603552</td>\n",
       "    </tr>\n",
       "    <tr>\n",
       "      <th>2021-06-07</th>\n",
       "      <td>125.575001</td>\n",
       "      <td>124.484320</td>\n",
       "    </tr>\n",
       "    <tr>\n",
       "      <th>...</th>\n",
       "      <td>...</td>\n",
       "      <td>...</td>\n",
       "    </tr>\n",
       "    <tr>\n",
       "      <th>2021-11-23</th>\n",
       "      <td>160.430001</td>\n",
       "      <td>117.580457</td>\n",
       "    </tr>\n",
       "    <tr>\n",
       "      <th>2021-11-24</th>\n",
       "      <td>160.889999</td>\n",
       "      <td>117.567142</td>\n",
       "    </tr>\n",
       "    <tr>\n",
       "      <th>2021-11-26</th>\n",
       "      <td>158.404999</td>\n",
       "      <td>117.554085</td>\n",
       "    </tr>\n",
       "    <tr>\n",
       "      <th>2021-11-29</th>\n",
       "      <td>159.989998</td>\n",
       "      <td>117.541286</td>\n",
       "    </tr>\n",
       "    <tr>\n",
       "      <th>2021-11-30</th>\n",
       "      <td>162.720001</td>\n",
       "      <td>117.528730</td>\n",
       "    </tr>\n",
       "  </tbody>\n",
       "</table>\n",
       "<p>128 rows × 2 columns</p>\n",
       "</div>"
      ],
      "text/plain": [
       "             Avg_price  Predictions\n",
       "Date                               \n",
       "2021-06-01  124.645000   124.780167\n",
       "2021-06-02  124.645001   124.756490\n",
       "2021-06-03  123.989998   124.696678\n",
       "2021-06-04  125.005001   124.603552\n",
       "2021-06-07  125.575001   124.484320\n",
       "...                ...          ...\n",
       "2021-11-23  160.430001   117.580457\n",
       "2021-11-24  160.889999   117.567142\n",
       "2021-11-26  158.404999   117.554085\n",
       "2021-11-29  159.989998   117.541286\n",
       "2021-11-30  162.720001   117.528730\n",
       "\n",
       "[128 rows x 2 columns]"
      ]
     },
     "execution_count": 43,
     "metadata": {},
     "output_type": "execute_result"
    }
   ],
   "source": [
    "true_predictions = scaler.inverse_transform(test_predictions)\n",
    "test['Predictions'] = true_predictions\n",
    "test"
   ]
  },
  {
   "cell_type": "code",
   "execution_count": 44,
   "metadata": {
    "execution": {
     "iopub.execute_input": "2021-12-15T06:06:13.557547Z",
     "iopub.status.busy": "2021-12-15T06:06:13.556941Z",
     "iopub.status.idle": "2021-12-15T06:06:13.842309Z",
     "shell.execute_reply": "2021-12-15T06:06:13.841495Z",
     "shell.execute_reply.started": "2021-12-15T06:06:13.557512Z"
    },
    "executionInfo": {
     "elapsed": 15,
     "status": "ok",
     "timestamp": 1639539057933,
     "user": {
      "displayName": "Himanshu Agrawal",
      "photoUrl": "https://lh3.googleusercontent.com/a-/AOh14GjP7W2fN8WTbaE8Cz4sW8MWqtRRM6M-4AsS00It=s64",
      "userId": "05949857934793656557"
     },
     "user_tz": -330
    },
    "id": "Oig8kmJbIXta",
    "outputId": "17042eb9-1576-4562-a39a-ced1b424bb8f"
   },
   "outputs": [
    {
     "data": {
      "text/plain": [
       "[<matplotlib.lines.Line2D at 0x1fe2e0b34d0>,\n",
       " <matplotlib.lines.Line2D at 0x1fe36c7b190>]"
      ]
     },
     "execution_count": 44,
     "metadata": {},
     "output_type": "execute_result"
    },
    {
     "data": {
      "image/png": "[encoded data removed]",
      "text/plain": [
       "<Figure size 1500x800 with 1 Axes>"
      ]
     },
     "metadata": {},
     "output_type": "display_data"
    }
   ],
   "source": [
    "plt.figure(figsize=(15,8))\n",
    "plt.plot(test)"
   ]
  },
  {
   "cell_type": "markdown",
   "metadata": {
    "id": "5VP6HddyIeIk"
   },
   "source": [
    "### Calculate RMSE"
   ]
  },
  {
   "cell_type": "code",
   "execution_count": 45,
   "metadata": {
    "execution": {
     "iopub.execute_input": "2021-12-15T06:06:13.844274Z",
     "iopub.status.busy": "2021-12-15T06:06:13.843678Z",
     "iopub.status.idle": "2021-12-15T06:06:13.894087Z",
     "shell.execute_reply": "2021-12-15T06:06:13.893276Z",
     "shell.execute_reply.started": "2021-12-15T06:06:13.844229Z"
    },
    "executionInfo": {
     "elapsed": 778,
     "status": "ok",
     "timestamp": 1639539058703,
     "user": {
      "displayName": "Himanshu Agrawal",
      "photoUrl": "https://lh3.googleusercontent.com/a-/AOh14GjP7W2fN8WTbaE8Cz4sW8MWqtRRM6M-4AsS00It=s64",
      "userId": "05949857934793656557"
     },
     "user_tz": -330
    },
    "id": "faz-9-LkIfrX",
    "outputId": "b3ce8d0f-9b8d-4a20-be82-0880c12889ba"
   },
   "outputs": [
    {
     "data": {
      "text/plain": [
       "27.17452952665627"
      ]
     },
     "execution_count": 45,
     "metadata": {},
     "output_type": "execute_result"
    }
   ],
   "source": [
    "from sklearn.metrics import mean_squared_error\n",
    "np.sqrt(mean_squared_error(test['Avg_price'],test['Predictions']))"
   ]
  },
  {
   "cell_type": "markdown",
   "metadata": {
    "id": "4H16siz_I5OQ"
   },
   "source": [
    "## Forecasting"
   ]
  },
  {
   "cell_type": "code",
   "execution_count": 46,
   "metadata": {
    "execution": {
     "iopub.execute_input": "2021-12-15T06:08:32.576880Z",
     "iopub.status.busy": "2021-12-15T06:08:32.576469Z",
     "iopub.status.idle": "2021-12-15T06:08:32.590130Z",
     "shell.execute_reply": "2021-12-15T06:08:32.589534Z",
     "shell.execute_reply.started": "2021-12-15T06:08:32.576845Z"
    },
    "executionInfo": {
     "elapsed": 652,
     "status": "ok",
     "timestamp": 1639539286621,
     "user": {
      "displayName": "Himanshu Agrawal",
      "photoUrl": "https://lh3.googleusercontent.com/a-/AOh14GjP7W2fN8WTbaE8Cz4sW8MWqtRRM6M-4AsS00It=s64",
      "userId": "05949857934793656557"
     },
     "user_tz": -330
    },
    "id": "PX_pK6pjKBPT",
    "outputId": "ff8f07ea-23d7-41b2-a7b2-333d4107d4d6"
   },
   "outputs": [
    {
     "name": "stdout",
     "output_type": "stream",
     "text": [
      "[datetime.datetime(2021, 12, 1, 0, 0), datetime.datetime(2021, 12, 2, 0, 0), datetime.datetime(2021, 12, 3, 0, 0), datetime.datetime(2021, 12, 6, 0, 0), datetime.datetime(2021, 12, 7, 0, 0), datetime.datetime(2021, 12, 8, 0, 0), datetime.datetime(2021, 12, 9, 0, 0), datetime.datetime(2021, 12, 10, 0, 0), datetime.datetime(2021, 12, 13, 0, 0), datetime.datetime(2021, 12, 14, 0, 0), datetime.datetime(2021, 12, 15, 0, 0), datetime.datetime(2021, 12, 16, 0, 0), datetime.datetime(2021, 12, 17, 0, 0), datetime.datetime(2021, 12, 20, 0, 0), datetime.datetime(2021, 12, 21, 0, 0), datetime.datetime(2021, 12, 22, 0, 0), datetime.datetime(2021, 12, 23, 0, 0), datetime.datetime(2021, 12, 24, 0, 0), datetime.datetime(2021, 12, 27, 0, 0), datetime.datetime(2021, 12, 28, 0, 0), datetime.datetime(2021, 12, 29, 0, 0), datetime.datetime(2021, 12, 30, 0, 0), datetime.datetime(2021, 12, 31, 0, 0), datetime.datetime(2022, 1, 3, 0, 0), datetime.datetime(2022, 1, 4, 0, 0), datetime.datetime(2022, 1, 5, 0, 0), datetime.datetime(2022, 1, 6, 0, 0), datetime.datetime(2022, 1, 7, 0, 0), datetime.datetime(2022, 1, 10, 0, 0), datetime.datetime(2022, 1, 11, 0, 0), datetime.datetime(2022, 1, 12, 0, 0), datetime.datetime(2022, 1, 13, 0, 0), datetime.datetime(2022, 1, 14, 0, 0), datetime.datetime(2022, 1, 17, 0, 0), datetime.datetime(2022, 1, 18, 0, 0), datetime.datetime(2022, 1, 19, 0, 0), datetime.datetime(2022, 1, 20, 0, 0), datetime.datetime(2022, 1, 21, 0, 0), datetime.datetime(2022, 1, 24, 0, 0), datetime.datetime(2022, 1, 25, 0, 0), datetime.datetime(2022, 1, 26, 0, 0), datetime.datetime(2022, 1, 27, 0, 0), datetime.datetime(2022, 1, 28, 0, 0), datetime.datetime(2022, 1, 31, 0, 0), datetime.datetime(2022, 2, 1, 0, 0), datetime.datetime(2022, 2, 2, 0, 0), datetime.datetime(2022, 2, 3, 0, 0), datetime.datetime(2022, 2, 4, 0, 0), datetime.datetime(2022, 2, 7, 0, 0), datetime.datetime(2022, 2, 8, 0, 0), datetime.datetime(2022, 2, 9, 0, 0), datetime.datetime(2022, 2, 10, 0, 0), datetime.datetime(2022, 2, 11, 0, 0), datetime.datetime(2022, 2, 14, 0, 0), datetime.datetime(2022, 2, 15, 0, 0), datetime.datetime(2022, 2, 16, 0, 0), datetime.datetime(2022, 2, 17, 0, 0), datetime.datetime(2022, 2, 18, 0, 0), datetime.datetime(2022, 2, 21, 0, 0), datetime.datetime(2022, 2, 22, 0, 0), datetime.datetime(2022, 2, 23, 0, 0), datetime.datetime(2022, 2, 24, 0, 0), datetime.datetime(2022, 2, 25, 0, 0), datetime.datetime(2022, 2, 28, 0, 0), datetime.datetime(2022, 3, 1, 0, 0), datetime.datetime(2022, 3, 2, 0, 0), datetime.datetime(2022, 3, 3, 0, 0), datetime.datetime(2022, 3, 4, 0, 0), datetime.datetime(2022, 3, 7, 0, 0), datetime.datetime(2022, 3, 8, 0, 0), datetime.datetime(2022, 3, 9, 0, 0), datetime.datetime(2022, 3, 10, 0, 0), datetime.datetime(2022, 3, 11, 0, 0), datetime.datetime(2022, 3, 14, 0, 0), datetime.datetime(2022, 3, 15, 0, 0), datetime.datetime(2022, 3, 16, 0, 0), datetime.datetime(2022, 3, 17, 0, 0), datetime.datetime(2022, 3, 18, 0, 0), datetime.datetime(2022, 3, 21, 0, 0), datetime.datetime(2022, 3, 22, 0, 0), datetime.datetime(2022, 3, 23, 0, 0), datetime.datetime(2022, 3, 24, 0, 0), datetime.datetime(2022, 3, 25, 0, 0), datetime.datetime(2022, 3, 28, 0, 0), datetime.datetime(2022, 3, 29, 0, 0), datetime.datetime(2022, 3, 30, 0, 0), datetime.datetime(2022, 3, 31, 0, 0), datetime.datetime(2022, 4, 1, 0, 0), datetime.datetime(2022, 4, 4, 0, 0), datetime.datetime(2022, 4, 5, 0, 0), datetime.datetime(2022, 4, 6, 0, 0), datetime.datetime(2022, 4, 7, 0, 0), datetime.datetime(2022, 4, 8, 0, 0), datetime.datetime(2022, 4, 11, 0, 0), datetime.datetime(2022, 4, 12, 0, 0), datetime.datetime(2022, 4, 13, 0, 0), datetime.datetime(2022, 4, 14, 0, 0), datetime.datetime(2022, 4, 15, 0, 0), datetime.datetime(2022, 4, 18, 0, 0), datetime.datetime(2022, 4, 19, 0, 0), datetime.datetime(2022, 4, 20, 0, 0), datetime.datetime(2022, 4, 21, 0, 0), datetime.datetime(2022, 4, 22, 0, 0), datetime.datetime(2022, 4, 25, 0, 0), datetime.datetime(2022, 4, 26, 0, 0), datetime.datetime(2022, 4, 27, 0, 0), datetime.datetime(2022, 4, 28, 0, 0), datetime.datetime(2022, 4, 29, 0, 0), datetime.datetime(2022, 5, 2, 0, 0), datetime.datetime(2022, 5, 3, 0, 0), datetime.datetime(2022, 5, 4, 0, 0), datetime.datetime(2022, 5, 5, 0, 0), datetime.datetime(2022, 5, 6, 0, 0), datetime.datetime(2022, 5, 9, 0, 0), datetime.datetime(2022, 5, 10, 0, 0), datetime.datetime(2022, 5, 11, 0, 0), datetime.datetime(2022, 5, 12, 0, 0), datetime.datetime(2022, 5, 13, 0, 0), datetime.datetime(2022, 5, 16, 0, 0), datetime.datetime(2022, 5, 17, 0, 0), datetime.datetime(2022, 5, 18, 0, 0), datetime.datetime(2022, 5, 19, 0, 0), datetime.datetime(2022, 5, 20, 0, 0), datetime.datetime(2022, 5, 23, 0, 0), datetime.datetime(2022, 5, 24, 0, 0), datetime.datetime(2022, 5, 25, 0, 0), datetime.datetime(2022, 5, 26, 0, 0), datetime.datetime(2022, 5, 27, 0, 0), datetime.datetime(2022, 5, 30, 0, 0), datetime.datetime(2022, 5, 31, 0, 0)]\n"
     ]
    }
   ],
   "source": [
    "from dateutil.parser import parse\n",
    "from dateutil.rrule import rrule, DAILY, MO, TU, WE, TH, FR\n",
    "\n",
    "result = rrule(\n",
    "  DAILY,\n",
    "  byweekday=(MO,TU,WE,TH,FR),\n",
    "  dtstart=parse('2021-12-01'),\n",
    "  until=parse('2022-05-31')\n",
    ")\n",
    "print(list(result))"
   ]
  },
  {
   "cell_type": "code",
   "execution_count": 47,
   "metadata": {
    "execution": {
     "iopub.execute_input": "2021-12-15T06:08:32.591854Z",
     "iopub.status.busy": "2021-12-15T06:08:32.591405Z",
     "iopub.status.idle": "2021-12-15T06:08:32.605285Z",
     "shell.execute_reply": "2021-12-15T06:08:32.604541Z",
     "shell.execute_reply.started": "2021-12-15T06:08:32.591823Z"
    },
    "executionInfo": {
     "elapsed": 609,
     "status": "ok",
     "timestamp": 1639539294642,
     "user": {
      "displayName": "Himanshu Agrawal",
      "photoUrl": "https://lh3.googleusercontent.com/a-/AOh14GjP7W2fN8WTbaE8Cz4sW8MWqtRRM6M-4AsS00It=s64",
      "userId": "05949857934793656557"
     },
     "user_tz": -330
    },
    "id": "Val7rH-MKBy3",
    "outputId": "9d23bf4d-ea79-4cf1-922c-79084b13844d"
   },
   "outputs": [
    {
     "data": {
      "text/plain": [
       "[datetime.datetime(2021, 12, 1, 0, 0),\n",
       " datetime.datetime(2021, 12, 2, 0, 0),\n",
       " datetime.datetime(2021, 12, 3, 0, 0),\n",
       " datetime.datetime(2021, 12, 6, 0, 0),\n",
       " datetime.datetime(2021, 12, 7, 0, 0),\n",
       " datetime.datetime(2021, 12, 8, 0, 0),\n",
       " datetime.datetime(2021, 12, 9, 0, 0),\n",
       " datetime.datetime(2021, 12, 10, 0, 0),\n",
       " datetime.datetime(2021, 12, 13, 0, 0),\n",
       " datetime.datetime(2021, 12, 14, 0, 0),\n",
       " datetime.datetime(2021, 12, 15, 0, 0),\n",
       " datetime.datetime(2021, 12, 16, 0, 0),\n",
       " datetime.datetime(2021, 12, 17, 0, 0),\n",
       " datetime.datetime(2021, 12, 20, 0, 0),\n",
       " datetime.datetime(2021, 12, 21, 0, 0),\n",
       " datetime.datetime(2021, 12, 22, 0, 0),\n",
       " datetime.datetime(2021, 12, 23, 0, 0),\n",
       " datetime.datetime(2021, 12, 24, 0, 0),\n",
       " datetime.datetime(2021, 12, 27, 0, 0),\n",
       " datetime.datetime(2021, 12, 28, 0, 0),\n",
       " datetime.datetime(2021, 12, 29, 0, 0),\n",
       " datetime.datetime(2021, 12, 30, 0, 0),\n",
       " datetime.datetime(2021, 12, 31, 0, 0),\n",
       " datetime.datetime(2022, 1, 3, 0, 0),\n",
       " datetime.datetime(2022, 1, 4, 0, 0),\n",
       " datetime.datetime(2022, 1, 5, 0, 0),\n",
       " datetime.datetime(2022, 1, 6, 0, 0),\n",
       " datetime.datetime(2022, 1, 7, 0, 0),\n",
       " datetime.datetime(2022, 1, 10, 0, 0),\n",
       " datetime.datetime(2022, 1, 11, 0, 0),\n",
       " datetime.datetime(2022, 1, 12, 0, 0),\n",
       " datetime.datetime(2022, 1, 13, 0, 0),\n",
       " datetime.datetime(2022, 1, 14, 0, 0),\n",
       " datetime.datetime(2022, 1, 17, 0, 0),\n",
       " datetime.datetime(2022, 1, 18, 0, 0),\n",
       " datetime.datetime(2022, 1, 19, 0, 0),\n",
       " datetime.datetime(2022, 1, 20, 0, 0),\n",
       " datetime.datetime(2022, 1, 21, 0, 0),\n",
       " datetime.datetime(2022, 1, 24, 0, 0),\n",
       " datetime.datetime(2022, 1, 25, 0, 0),\n",
       " datetime.datetime(2022, 1, 26, 0, 0),\n",
       " datetime.datetime(2022, 1, 27, 0, 0),\n",
       " datetime.datetime(2022, 1, 28, 0, 0),\n",
       " datetime.datetime(2022, 1, 31, 0, 0),\n",
       " datetime.datetime(2022, 2, 1, 0, 0),\n",
       " datetime.datetime(2022, 2, 2, 0, 0),\n",
       " datetime.datetime(2022, 2, 3, 0, 0),\n",
       " datetime.datetime(2022, 2, 4, 0, 0),\n",
       " datetime.datetime(2022, 2, 7, 0, 0),\n",
       " datetime.datetime(2022, 2, 8, 0, 0),\n",
       " datetime.datetime(2022, 2, 9, 0, 0),\n",
       " datetime.datetime(2022, 2, 10, 0, 0),\n",
       " datetime.datetime(2022, 2, 11, 0, 0),\n",
       " datetime.datetime(2022, 2, 14, 0, 0),\n",
       " datetime.datetime(2022, 2, 15, 0, 0),\n",
       " datetime.datetime(2022, 2, 16, 0, 0),\n",
       " datetime.datetime(2022, 2, 17, 0, 0),\n",
       " datetime.datetime(2022, 2, 18, 0, 0),\n",
       " datetime.datetime(2022, 2, 21, 0, 0),\n",
       " datetime.datetime(2022, 2, 22, 0, 0),\n",
       " datetime.datetime(2022, 2, 23, 0, 0),\n",
       " datetime.datetime(2022, 2, 24, 0, 0),\n",
       " datetime.datetime(2022, 2, 25, 0, 0),\n",
       " datetime.datetime(2022, 2, 28, 0, 0),\n",
       " datetime.datetime(2022, 3, 1, 0, 0),\n",
       " datetime.datetime(2022, 3, 2, 0, 0),\n",
       " datetime.datetime(2022, 3, 3, 0, 0),\n",
       " datetime.datetime(2022, 3, 4, 0, 0),\n",
       " datetime.datetime(2022, 3, 7, 0, 0),\n",
       " datetime.datetime(2022, 3, 8, 0, 0),\n",
       " datetime.datetime(2022, 3, 9, 0, 0),\n",
       " datetime.datetime(2022, 3, 10, 0, 0),\n",
       " datetime.datetime(2022, 3, 11, 0, 0),\n",
       " datetime.datetime(2022, 3, 14, 0, 0),\n",
       " datetime.datetime(2022, 3, 15, 0, 0),\n",
       " datetime.datetime(2022, 3, 16, 0, 0),\n",
       " datetime.datetime(2022, 3, 17, 0, 0),\n",
       " datetime.datetime(2022, 3, 18, 0, 0),\n",
       " datetime.datetime(2022, 3, 21, 0, 0),\n",
       " datetime.datetime(2022, 3, 22, 0, 0),\n",
       " datetime.datetime(2022, 3, 23, 0, 0),\n",
       " datetime.datetime(2022, 3, 24, 0, 0),\n",
       " datetime.datetime(2022, 3, 25, 0, 0),\n",
       " datetime.datetime(2022, 3, 28, 0, 0),\n",
       " datetime.datetime(2022, 3, 29, 0, 0),\n",
       " datetime.datetime(2022, 3, 30, 0, 0),\n",
       " datetime.datetime(2022, 3, 31, 0, 0),\n",
       " datetime.datetime(2022, 4, 1, 0, 0),\n",
       " datetime.datetime(2022, 4, 4, 0, 0),\n",
       " datetime.datetime(2022, 4, 5, 0, 0),\n",
       " datetime.datetime(2022, 4, 6, 0, 0),\n",
       " datetime.datetime(2022, 4, 7, 0, 0),\n",
       " datetime.datetime(2022, 4, 8, 0, 0),\n",
       " datetime.datetime(2022, 4, 11, 0, 0),\n",
       " datetime.datetime(2022, 4, 12, 0, 0),\n",
       " datetime.datetime(2022, 4, 13, 0, 0),\n",
       " datetime.datetime(2022, 4, 14, 0, 0),\n",
       " datetime.datetime(2022, 4, 15, 0, 0),\n",
       " datetime.datetime(2022, 4, 18, 0, 0),\n",
       " datetime.datetime(2022, 4, 19, 0, 0),\n",
       " datetime.datetime(2022, 4, 20, 0, 0),\n",
       " datetime.datetime(2022, 4, 21, 0, 0),\n",
       " datetime.datetime(2022, 4, 22, 0, 0),\n",
       " datetime.datetime(2022, 4, 25, 0, 0),\n",
       " datetime.datetime(2022, 4, 26, 0, 0),\n",
       " datetime.datetime(2022, 4, 27, 0, 0),\n",
       " datetime.datetime(2022, 4, 28, 0, 0),\n",
       " datetime.datetime(2022, 4, 29, 0, 0),\n",
       " datetime.datetime(2022, 5, 2, 0, 0),\n",
       " datetime.datetime(2022, 5, 3, 0, 0),\n",
       " datetime.datetime(2022, 5, 4, 0, 0),\n",
       " datetime.datetime(2022, 5, 5, 0, 0),\n",
       " datetime.datetime(2022, 5, 6, 0, 0),\n",
       " datetime.datetime(2022, 5, 9, 0, 0),\n",
       " datetime.datetime(2022, 5, 10, 0, 0),\n",
       " datetime.datetime(2022, 5, 11, 0, 0),\n",
       " datetime.datetime(2022, 5, 12, 0, 0),\n",
       " datetime.datetime(2022, 5, 13, 0, 0),\n",
       " datetime.datetime(2022, 5, 16, 0, 0),\n",
       " datetime.datetime(2022, 5, 17, 0, 0),\n",
       " datetime.datetime(2022, 5, 18, 0, 0),\n",
       " datetime.datetime(2022, 5, 19, 0, 0),\n",
       " datetime.datetime(2022, 5, 20, 0, 0),\n",
       " datetime.datetime(2022, 5, 23, 0, 0),\n",
       " datetime.datetime(2022, 5, 24, 0, 0),\n",
       " datetime.datetime(2022, 5, 25, 0, 0),\n",
       " datetime.datetime(2022, 5, 26, 0, 0),\n",
       " datetime.datetime(2022, 5, 27, 0, 0),\n",
       " datetime.datetime(2022, 5, 30, 0, 0),\n",
       " datetime.datetime(2022, 5, 31, 0, 0)]"
      ]
     },
     "execution_count": 47,
     "metadata": {},
     "output_type": "execute_result"
    }
   ],
   "source": [
    "list(result)"
   ]
  },
  {
   "cell_type": "code",
   "execution_count": 48,
   "metadata": {
    "execution": {
     "iopub.execute_input": "2021-12-15T06:08:32.607794Z",
     "iopub.status.busy": "2021-12-15T06:08:32.607462Z",
     "iopub.status.idle": "2021-12-15T06:08:32.618083Z",
     "shell.execute_reply": "2021-12-15T06:08:32.617319Z",
     "shell.execute_reply.started": "2021-12-15T06:08:32.607765Z"
    },
    "executionInfo": {
     "elapsed": 603,
     "status": "ok",
     "timestamp": 1639539305687,
     "user": {
      "displayName": "Himanshu Agrawal",
      "photoUrl": "https://lh3.googleusercontent.com/a-/AOh14GjP7W2fN8WTbaE8Cz4sW8MWqtRRM6M-4AsS00It=s64",
      "userId": "05949857934793656557"
     },
     "user_tz": -330
    },
    "id": "GvdaGtyGKDwa",
    "outputId": "432e451a-e542-4d46-977a-2ab549494421"
   },
   "outputs": [
    {
     "data": {
      "text/plain": [
       "130"
      ]
     },
     "execution_count": 48,
     "metadata": {},
     "output_type": "execute_result"
    }
   ],
   "source": [
    "len(list(result))"
   ]
  },
  {
   "cell_type": "code",
   "execution_count": 49,
   "metadata": {
    "execution": {
     "iopub.execute_input": "2021-12-15T06:08:32.619927Z",
     "iopub.status.busy": "2021-12-15T06:08:32.619402Z",
     "iopub.status.idle": "2021-12-15T06:08:32.629122Z",
     "shell.execute_reply": "2021-12-15T06:08:32.628319Z",
     "shell.execute_reply.started": "2021-12-15T06:08:32.619896Z"
    },
    "executionInfo": {
     "elapsed": 508,
     "status": "ok",
     "timestamp": 1639539312455,
     "user": {
      "displayName": "Himanshu Agrawal",
      "photoUrl": "https://lh3.googleusercontent.com/a-/AOh14GjP7W2fN8WTbaE8Cz4sW8MWqtRRM6M-4AsS00It=s64",
      "userId": "05949857934793656557"
     },
     "user_tz": -330
    },
    "id": "njFPgg9mKGdu",
    "outputId": "391d3275-960e-4d80-8cb6-5bfdd0692884"
   },
   "outputs": [
    {
     "data": {
      "text/plain": [
       "'2021-12-01'"
      ]
     },
     "execution_count": 49,
     "metadata": {},
     "output_type": "execute_result"
    }
   ],
   "source": [
    "list(result)[0].strftime('%Y-%m-%d')"
   ]
  },
  {
   "cell_type": "code",
   "execution_count": 50,
   "metadata": {
    "execution": {
     "iopub.execute_input": "2021-12-15T06:08:32.631058Z",
     "iopub.status.busy": "2021-12-15T06:08:32.630520Z",
     "iopub.status.idle": "2021-12-15T06:08:32.644953Z",
     "shell.execute_reply": "2021-12-15T06:08:32.644243Z",
     "shell.execute_reply.started": "2021-12-15T06:08:32.631025Z"
    },
    "executionInfo": {
     "elapsed": 604,
     "status": "ok",
     "timestamp": 1639539319215,
     "user": {
      "displayName": "Himanshu Agrawal",
      "photoUrl": "https://lh3.googleusercontent.com/a-/AOh14GjP7W2fN8WTbaE8Cz4sW8MWqtRRM6M-4AsS00It=s64",
      "userId": "05949857934793656557"
     },
     "user_tz": -330
    },
    "id": "3Juo7u_iKIIM",
    "outputId": "51d1e9e3-da6e-481d-855e-730d934004be"
   },
   "outputs": [
    {
     "data": {
      "text/plain": [
       "0      2021-12-01\n",
       "1      2021-12-02\n",
       "2      2021-12-03\n",
       "3      2021-12-06\n",
       "4      2021-12-07\n",
       "          ...    \n",
       "125    2022-05-25\n",
       "126    2022-05-26\n",
       "127    2022-05-27\n",
       "128    2022-05-30\n",
       "129    2022-05-31\n",
       "Length: 130, dtype: object"
      ]
     },
     "execution_count": 50,
     "metadata": {},
     "output_type": "execute_result"
    }
   ],
   "source": [
    "forecast_date = []\n",
    "for i in list(result):\n",
    "  forecast_date.append(i.strftime('%Y-%m-%d'))\n",
    "\n",
    "forecast_date = pd.Series(forecast_date)\n",
    "forecast_date"
   ]
  },
  {
   "cell_type": "code",
   "execution_count": 51,
   "metadata": {
    "execution": {
     "iopub.execute_input": "2021-12-15T06:08:32.646958Z",
     "iopub.status.busy": "2021-12-15T06:08:32.646511Z",
     "iopub.status.idle": "2021-12-15T06:08:32.664742Z",
     "shell.execute_reply": "2021-12-15T06:08:32.663760Z",
     "shell.execute_reply.started": "2021-12-15T06:08:32.646918Z"
    },
    "executionInfo": {
     "elapsed": 606,
     "status": "ok",
     "timestamp": 1639539326693,
     "user": {
      "displayName": "Himanshu Agrawal",
      "photoUrl": "https://lh3.googleusercontent.com/a-/AOh14GjP7W2fN8WTbaE8Cz4sW8MWqtRRM6M-4AsS00It=s64",
      "userId": "05949857934793656557"
     },
     "user_tz": -330
    },
    "id": "T3urDbK3KJwV",
    "outputId": "e545d746-c9b8-47d4-fc6b-2386562d8d11"
   },
   "outputs": [
    {
     "data": {
      "text/plain": [
       "0     2021-12-01\n",
       "1     2021-12-02\n",
       "2     2021-12-03\n",
       "3     2021-12-06\n",
       "4     2021-12-07\n",
       "         ...    \n",
       "125   2022-05-25\n",
       "126   2022-05-26\n",
       "127   2022-05-27\n",
       "128   2022-05-30\n",
       "129   2022-05-31\n",
       "Length: 130, dtype: datetime64[ns]"
      ]
     },
     "execution_count": 51,
     "metadata": {},
     "output_type": "execute_result"
    }
   ],
   "source": [
    "forecast_date = pd.to_datetime(forecast_date, dayfirst=True)\n",
    "forecast_date"
   ]
  },
  {
   "cell_type": "code",
   "execution_count": 53,
   "metadata": {
    "execution": {
     "iopub.execute_input": "2021-12-15T06:08:32.666420Z",
     "iopub.status.busy": "2021-12-15T06:08:32.665864Z",
     "iopub.status.idle": "2021-12-15T06:08:43.342631Z",
     "shell.execute_reply": "2021-12-15T06:08:43.341547Z",
     "shell.execute_reply.started": "2021-12-15T06:08:32.666389Z"
    },
    "executionInfo": {
     "elapsed": 8306,
     "status": "ok",
     "timestamp": 1639539342271,
     "user": {
      "displayName": "Himanshu Agrawal",
      "photoUrl": "https://lh3.googleusercontent.com/a-/AOh14GjP7W2fN8WTbaE8Cz4sW8MWqtRRM6M-4AsS00It=s64",
      "userId": "05949857934793656557"
     },
     "user_tz": -330
    },
    "id": "rw8wFhX-KLlz"
   },
   "outputs": [
    {
     "name": "stdout",
     "output_type": "stream",
     "text": [
      "1/1 [==============================] - 0s 41ms/step\n",
      "1/1 [==============================] - 0s 33ms/step\n",
      "1/1 [==============================] - 0s 49ms/step\n",
      "1/1 [==============================] - 0s 41ms/step\n",
      "1/1 [==============================] - 0s 33ms/step\n",
      "1/1 [==============================] - 0s 33ms/step\n",
      "1/1 [==============================] - 0s 41ms/step\n",
      "1/1 [==============================] - 0s 41ms/step\n",
      "1/1 [==============================] - 0s 41ms/step\n",
      "1/1 [==============================] - 0s 33ms/step\n",
      "1/1 [==============================] - 0s 49ms/step\n",
      "1/1 [==============================] - 0s 41ms/step\n",
      "1/1 [==============================] - 0s 33ms/step\n",
      "1/1 [==============================] - 0s 51ms/step\n",
      "1/1 [==============================] - 0s 41ms/step\n",
      "1/1 [==============================] - 0s 40ms/step\n",
      "1/1 [==============================] - 0s 41ms/step\n",
      "1/1 [==============================] - 0s 33ms/step\n",
      "1/1 [==============================] - 0s 40ms/step\n",
      "1/1 [==============================] - 0s 33ms/step\n",
      "1/1 [==============================] - 0s 48ms/step\n",
      "1/1 [==============================] - 0s 41ms/step\n",
      "1/1 [==============================] - 0s 32ms/step\n",
      "1/1 [==============================] - 0s 33ms/step\n",
      "1/1 [==============================] - 0s 41ms/step\n",
      "1/1 [==============================] - 0s 33ms/step\n",
      "1/1 [==============================] - 0s 33ms/step\n",
      "1/1 [==============================] - 0s 40ms/step\n",
      "1/1 [==============================] - 0s 33ms/step\n",
      "1/1 [==============================] - 0s 33ms/step\n",
      "1/1 [==============================] - 0s 49ms/step\n",
      "1/1 [==============================] - 0s 41ms/step\n",
      "1/1 [==============================] - 0s 40ms/step\n",
      "1/1 [==============================] - 0s 33ms/step\n",
      "1/1 [==============================] - 0s 41ms/step\n",
      "1/1 [==============================] - 0s 41ms/step\n",
      "1/1 [==============================] - 0s 40ms/step\n",
      "1/1 [==============================] - 0s 33ms/step\n",
      "1/1 [==============================] - 0s 49ms/step\n",
      "1/1 [==============================] - 0s 40ms/step\n",
      "1/1 [==============================] - 0s 40ms/step\n",
      "1/1 [==============================] - 0s 33ms/step\n",
      "1/1 [==============================] - 0s 41ms/step\n",
      "1/1 [==============================] - 0s 41ms/step\n",
      "1/1 [==============================] - 0s 40ms/step\n",
      "1/1 [==============================] - 0s 33ms/step\n",
      "1/1 [==============================] - 0s 41ms/step\n",
      "1/1 [==============================] - 0s 33ms/step\n",
      "1/1 [==============================] - 0s 33ms/step\n",
      "1/1 [==============================] - 0s 38ms/step\n",
      "1/1 [==============================] - 0s 43ms/step\n",
      "1/1 [==============================] - 0s 50ms/step\n",
      "1/1 [==============================] - 0s 51ms/step\n",
      "1/1 [==============================] - 0s 43ms/step\n",
      "1/1 [==============================] - 0s 45ms/step\n",
      "1/1 [==============================] - 0s 43ms/step\n",
      "1/1 [==============================] - 0s 40ms/step\n",
      "1/1 [==============================] - 0s 40ms/step\n",
      "1/1 [==============================] - 0s 33ms/step\n",
      "1/1 [==============================] - 0s 37ms/step\n",
      "1/1 [==============================] - 0s 65ms/step\n",
      "1/1 [==============================] - 0s 51ms/step\n",
      "1/1 [==============================] - 0s 51ms/step\n",
      "1/1 [==============================] - 0s 53ms/step\n",
      "1/1 [==============================] - 0s 64ms/step\n",
      "1/1 [==============================] - 0s 51ms/step\n",
      "1/1 [==============================] - 0s 51ms/step\n",
      "1/1 [==============================] - 0s 53ms/step\n",
      "1/1 [==============================] - 0s 51ms/step\n",
      "1/1 [==============================] - 0s 53ms/step\n",
      "1/1 [==============================] - 0s 51ms/step\n",
      "1/1 [==============================] - 0s 51ms/step\n",
      "1/1 [==============================] - 0s 50ms/step\n",
      "1/1 [==============================] - 0s 51ms/step\n",
      "1/1 [==============================] - 0s 56ms/step\n",
      "1/1 [==============================] - 0s 49ms/step\n",
      "1/1 [==============================] - 0s 52ms/step\n",
      "1/1 [==============================] - 0s 67ms/step\n",
      "1/1 [==============================] - 0s 67ms/step\n",
      "1/1 [==============================] - 0s 67ms/step\n",
      "1/1 [==============================] - 0s 66ms/step\n",
      "1/1 [==============================] - 0s 67ms/step\n",
      "1/1 [==============================] - 0s 67ms/step\n",
      "1/1 [==============================] - 0s 41ms/step\n",
      "1/1 [==============================] - 0s 50ms/step\n",
      "1/1 [==============================] - 0s 50ms/step\n",
      "1/1 [==============================] - 0s 50ms/step\n",
      "1/1 [==============================] - 0s 51ms/step\n",
      "1/1 [==============================] - 0s 51ms/step\n",
      "1/1 [==============================] - 0s 64ms/step\n",
      "1/1 [==============================] - 0s 40ms/step\n",
      "1/1 [==============================] - 0s 41ms/step\n",
      "1/1 [==============================] - 0s 41ms/step\n",
      "1/1 [==============================] - 0s 49ms/step\n",
      "1/1 [==============================] - 0s 41ms/step\n",
      "1/1 [==============================] - 0s 33ms/step\n",
      "1/1 [==============================] - 0s 40ms/step\n",
      "1/1 [==============================] - 0s 33ms/step\n",
      "1/1 [==============================] - 0s 41ms/step\n",
      "1/1 [==============================] - 0s 33ms/step\n",
      "1/1 [==============================] - 0s 33ms/step\n",
      "1/1 [==============================] - 0s 49ms/step\n",
      "1/1 [==============================] - 0s 40ms/step\n",
      "1/1 [==============================] - 0s 49ms/step\n",
      "1/1 [==============================] - 0s 40ms/step\n",
      "1/1 [==============================] - 0s 38ms/step\n",
      "1/1 [==============================] - 0s 33ms/step\n",
      "1/1 [==============================] - 0s 33ms/step\n",
      "1/1 [==============================] - 0s 33ms/step\n",
      "1/1 [==============================] - 0s 40ms/step\n",
      "1/1 [==============================] - 0s 41ms/step\n",
      "1/1 [==============================] - 0s 37ms/step\n",
      "1/1 [==============================] - 0s 38ms/step\n",
      "1/1 [==============================] - 0s 40ms/step\n",
      "1/1 [==============================] - 0s 33ms/step\n",
      "1/1 [==============================] - 0s 33ms/step\n",
      "1/1 [==============================] - 0s 33ms/step\n",
      "1/1 [==============================] - 0s 33ms/step\n",
      "1/1 [==============================] - 0s 40ms/step\n",
      "1/1 [==============================] - 0s 36ms/step\n",
      "1/1 [==============================] - 0s 38ms/step\n",
      "1/1 [==============================] - 0s 39ms/step\n",
      "1/1 [==============================] - 0s 39ms/step\n",
      "1/1 [==============================] - 0s 33ms/step\n",
      "1/1 [==============================] - 0s 33ms/step\n",
      "1/1 [==============================] - 0s 33ms/step\n",
      "1/1 [==============================] - 0s 48ms/step\n",
      "1/1 [==============================] - 0s 41ms/step\n",
      "1/1 [==============================] - 0s 33ms/step\n",
      "1/1 [==============================] - 0s 33ms/step\n"
     ]
    }
   ],
   "source": [
    "forecast = []\n",
    "# Replace periods with whatever forecast length you want\n",
    "periods = 130\n",
    "\n",
    "first_eval_batch = scaled_train[-length:]\n",
    "current_batch = first_eval_batch.reshape((1, length, n_features))\n",
    "\n",
    "for i in range(periods):\n",
    "    \n",
    "    # get prediction 1 time stamp ahead ([0] is for grabbing just the number instead of [array])\n",
    "    current_pred = model.predict(current_batch)[0]\n",
    "    \n",
    "    # store prediction\n",
    "    forecast.append(current_pred) \n",
    "    \n",
    "    # update batch to now include prediction and drop first value\n",
    "    current_batch = np.append(current_batch[:,1:,:],[[current_pred]],axis=1)"
   ]
  },
  {
   "cell_type": "code",
   "execution_count": 54,
   "metadata": {
    "execution": {
     "iopub.execute_input": "2021-12-15T06:08:43.344324Z",
     "iopub.status.busy": "2021-12-15T06:08:43.344103Z",
     "iopub.status.idle": "2021-12-15T06:08:43.357430Z",
     "shell.execute_reply": "2021-12-15T06:08:43.356479Z",
     "shell.execute_reply.started": "2021-12-15T06:08:43.344297Z"
    },
    "executionInfo": {
     "elapsed": 11,
     "status": "ok",
     "timestamp": 1639539342273,
     "user": {
      "displayName": "Himanshu Agrawal",
      "photoUrl": "https://lh3.googleusercontent.com/a-/AOh14GjP7W2fN8WTbaE8Cz4sW8MWqtRRM6M-4AsS00It=s64",
      "userId": "05949857934793656557"
     },
     "user_tz": -330
    },
    "id": "TjpgOeoXKNZr",
    "outputId": "0ecf695c-6348-4113-a254-09ba599407b8"
   },
   "outputs": [
    {
     "data": {
      "text/html": [
       "<div>\n",
       "<style scoped>\n",
       "    .dataframe tbody tr th:only-of-type {\n",
       "        vertical-align: middle;\n",
       "    }\n",
       "\n",
       "    .dataframe tbody tr th {\n",
       "        vertical-align: top;\n",
       "    }\n",
       "\n",
       "    .dataframe thead th {\n",
       "        text-align: right;\n",
       "    }\n",
       "</style>\n",
       "<table border=\"1\" class=\"dataframe\">\n",
       "  <thead>\n",
       "    <tr style=\"text-align: right;\">\n",
       "      <th></th>\n",
       "      <th>Forecast</th>\n",
       "    </tr>\n",
       "  </thead>\n",
       "  <tbody>\n",
       "    <tr>\n",
       "      <th>2021-12-01</th>\n",
       "      <td>124.780167</td>\n",
       "    </tr>\n",
       "    <tr>\n",
       "      <th>2021-12-02</th>\n",
       "      <td>124.756490</td>\n",
       "    </tr>\n",
       "    <tr>\n",
       "      <th>2021-12-03</th>\n",
       "      <td>124.696678</td>\n",
       "    </tr>\n",
       "    <tr>\n",
       "      <th>2021-12-06</th>\n",
       "      <td>124.603552</td>\n",
       "    </tr>\n",
       "    <tr>\n",
       "      <th>2021-12-07</th>\n",
       "      <td>124.484320</td>\n",
       "    </tr>\n",
       "    <tr>\n",
       "      <th>...</th>\n",
       "      <td>...</td>\n",
       "    </tr>\n",
       "    <tr>\n",
       "      <th>2022-05-25</th>\n",
       "      <td>117.554085</td>\n",
       "    </tr>\n",
       "    <tr>\n",
       "      <th>2022-05-26</th>\n",
       "      <td>117.541286</td>\n",
       "    </tr>\n",
       "    <tr>\n",
       "      <th>2022-05-27</th>\n",
       "      <td>117.528730</td>\n",
       "    </tr>\n",
       "    <tr>\n",
       "      <th>2022-05-30</th>\n",
       "      <td>117.516432</td>\n",
       "    </tr>\n",
       "    <tr>\n",
       "      <th>2022-05-31</th>\n",
       "      <td>117.504360</td>\n",
       "    </tr>\n",
       "  </tbody>\n",
       "</table>\n",
       "<p>130 rows × 1 columns</p>\n",
       "</div>"
      ],
      "text/plain": [
       "              Forecast\n",
       "2021-12-01  124.780167\n",
       "2021-12-02  124.756490\n",
       "2021-12-03  124.696678\n",
       "2021-12-06  124.603552\n",
       "2021-12-07  124.484320\n",
       "...                ...\n",
       "2022-05-25  117.554085\n",
       "2022-05-26  117.541286\n",
       "2022-05-27  117.528730\n",
       "2022-05-30  117.516432\n",
       "2022-05-31  117.504360\n",
       "\n",
       "[130 rows x 1 columns]"
      ]
     },
     "execution_count": 54,
     "metadata": {},
     "output_type": "execute_result"
    }
   ],
   "source": [
    "forecast = scaler.inverse_transform(forecast)\n",
    "forecast_df = pd.DataFrame(data=forecast,index=forecast_date,\n",
    "                           columns=['Forecast'])\n",
    "forecast_df"
   ]
  },
  {
   "cell_type": "code",
   "execution_count": 55,
   "metadata": {
    "execution": {
     "iopub.execute_input": "2021-12-15T06:08:43.360500Z",
     "iopub.status.busy": "2021-12-15T06:08:43.360194Z",
     "iopub.status.idle": "2021-12-15T06:08:43.979012Z",
     "shell.execute_reply": "2021-12-15T06:08:43.978274Z",
     "shell.execute_reply.started": "2021-12-15T06:08:43.360459Z"
    },
    "executionInfo": {
     "elapsed": 1725,
     "status": "ok",
     "timestamp": 1639539351771,
     "user": {
      "displayName": "Himanshu Agrawal",
      "photoUrl": "https://lh3.googleusercontent.com/a-/AOh14GjP7W2fN8WTbaE8Cz4sW8MWqtRRM6M-4AsS00It=s64",
      "userId": "05949857934793656557"
     },
     "user_tz": -330
    },
    "id": "1CDXvKA1KPYx",
    "outputId": "2f750411-cca9-41ab-9031-d1be742c3baf"
   },
   "outputs": [
    {
     "data": {
      "text/plain": [
       "<Axes: >"
      ]
     },
     "execution_count": 55,
     "metadata": {},
     "output_type": "execute_result"
    },
    {
     "data": {
      "image/png": "[encoded data removed]",
      "text/plain": [
       "<Figure size 640x480 with 1 Axes>"
      ]
     },
     "metadata": {},
     "output_type": "display_data"
    },
    {
     "data": {
      "image/png": "[encoded data removed]",
      "text/plain": [
       "<Figure size 640x480 with 1 Axes>"
      ]
     },
     "metadata": {},
     "output_type": "display_data"
    }
   ],
   "source": [
    "data.plot()\n",
    "forecast_df.plot()"
   ]
  },
  {
   "cell_type": "code",
   "execution_count": 56,
   "metadata": {
    "execution": {
     "iopub.execute_input": "2021-12-15T06:08:43.980317Z",
     "iopub.status.busy": "2021-12-15T06:08:43.980082Z",
     "iopub.status.idle": "2021-12-15T06:08:44.332625Z",
     "shell.execute_reply": "2021-12-15T06:08:44.331642Z",
     "shell.execute_reply.started": "2021-12-15T06:08:43.980291Z"
    },
    "executionInfo": {
     "elapsed": 637,
     "status": "ok",
     "timestamp": 1639539365529,
     "user": {
      "displayName": "Himanshu Agrawal",
      "photoUrl": "https://lh3.googleusercontent.com/a-/AOh14GjP7W2fN8WTbaE8Cz4sW8MWqtRRM6M-4AsS00It=s64",
      "userId": "05949857934793656557"
     },
     "user_tz": -330
    },
    "id": "g65RqRq4KRcB",
    "outputId": "03d14625-0b6a-48be-fae4-05fe17d1f87e"
   },
   "outputs": [
    {
     "data": {
      "text/plain": [
       "<Axes: xlabel='Date'>"
      ]
     },
     "execution_count": 56,
     "metadata": {},
     "output_type": "execute_result"
    },
    {
     "data": {
      "image/png": "[encoded data removed]",
      "text/plain": [
       "<Figure size 640x480 with 1 Axes>"
      ]
     },
     "metadata": {},
     "output_type": "display_data"
    }
   ],
   "source": [
    "ax = data.plot()\n",
    "forecast_df.plot(ax=ax)\n"
   ]
  },
  {
   "cell_type": "code",
   "execution_count": 57,
   "metadata": {
    "execution": {
     "iopub.execute_input": "2021-12-15T06:08:44.334359Z",
     "iopub.status.busy": "2021-12-15T06:08:44.334054Z",
     "iopub.status.idle": "2021-12-15T06:08:44.691274Z",
     "shell.execute_reply": "2021-12-15T06:08:44.690310Z",
     "shell.execute_reply.started": "2021-12-15T06:08:44.334319Z"
    },
    "executionInfo": {
     "elapsed": 943,
     "status": "ok",
     "timestamp": 1639540569741,
     "user": {
      "displayName": "Himanshu Agrawal",
      "photoUrl": "https://lh3.googleusercontent.com/a-/AOh14GjP7W2fN8WTbaE8Cz4sW8MWqtRRM6M-4AsS00It=s64",
      "userId": "05949857934793656557"
     },
     "user_tz": -330
    },
    "id": "iXmjSQreKU-h",
    "outputId": "674002a9-63e1-4b8b-907d-d2174c0cf990"
   },
   "outputs": [
    {
     "data": {
      "text/plain": [
       "(18628.0, 19143.0)"
      ]
     },
     "execution_count": 57,
     "metadata": {},
     "output_type": "execute_result"
    },
    {
     "data": {
      "image/png": "[encoded data removed]",
      "text/plain": [
       "<Figure size 640x480 with 1 Axes>"
      ]
     },
     "metadata": {},
     "output_type": "display_data"
    }
   ],
   "source": [
    "ax = data.plot()\n",
    "forecast_df.plot(ax=ax)\n",
    "plt.xlim('2021-01-01','2022-05-31')"
   ]
  },
  {
   "cell_type": "code",
   "execution_count": 58,
   "metadata": {
    "execution": {
     "iopub.execute_input": "2021-12-15T06:08:44.692548Z",
     "iopub.status.busy": "2021-12-15T06:08:44.692343Z",
     "iopub.status.idle": "2021-12-15T06:08:44.737893Z",
     "shell.execute_reply": "2021-12-15T06:08:44.736948Z",
     "shell.execute_reply.started": "2021-12-15T06:08:44.692522Z"
    },
    "executionInfo": {
     "elapsed": 608,
     "status": "ok",
     "timestamp": 1639541042601,
     "user": {
      "displayName": "Himanshu Agrawal",
      "photoUrl": "https://lh3.googleusercontent.com/a-/AOh14GjP7W2fN8WTbaE8Cz4sW8MWqtRRM6M-4AsS00It=s64",
      "userId": "05949857934793656557"
     },
     "user_tz": -330
    },
    "id": "iTwCEhGHKXcE"
   },
   "outputs": [
    {
     "name": "stderr",
     "output_type": "stream",
     "text": [
      "C:\\Users\\Lenovo\\anaconda3\\Lib\\site-packages\\keras\\src\\engine\\training.py:3000: UserWarning: You are saving your model as an HDF5 file via `model.save()`. This file format is considered legacy. We recommend using instead the native Keras format, e.g. `model.save('my_model.keras')`.\n",
      "  saving_api.save_model(\n"
     ]
    }
   ],
   "source": [
    "model.save('AAPL_model.h5')"
   ]
  },
  {
   "cell_type": "code",
   "execution_count": null,
   "metadata": {},
   "outputs": [],
   "source": []
  }
 ],
 "metadata": {
  "kernelspec": {
   "display_name": "Python 3 (ipykernel)",
   "language": "python",
   "name": "python3"
  },
  "language_info": {
   "codemirror_mode": {
    "name": "ipython",
    "version": 3
   },
   "file_extension": ".py",
   "mimetype": "text/x-python",
   "name": "python",
   "nbconvert_exporter": "python",
   "pygments_lexer": "ipython3",
   "version": "3.11.4"
  }
 },
 "nbformat": 4,
 "nbformat_minor": 4
}
